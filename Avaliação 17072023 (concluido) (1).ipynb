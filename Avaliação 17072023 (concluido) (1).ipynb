{
 "cells": [
  {
   "cell_type": "markdown",
   "id": "14e93605",
   "metadata": {},
   "source": [
    "Código 01 - Escreva um programa que solicite ao usuário um número inteiro e verifique se ele é um número positivo. Em seguida, exiba a mensagem correspondente.\n"
   ]
  },
  {
   "cell_type": "code",
   "execution_count": null,
   "id": "d691e9f4",
   "metadata": {},
   "outputs": [],
   "source": [
    "numero = int(input('Informe um numero: '))\n",
    "\n",
    "if numero > 0:\n",
    "    print(f'O numero {numero} é Positivo')\n",
    "elif numero < 0:\n",
    "    print(f'O numero {numero} é Negativo')\n",
    "else:\n",
    "    print('Nulo')"
   ]
  },
  {
   "cell_type": "markdown",
   "id": "de4873f1",
   "metadata": {},
   "source": [
    "Código 08 - Faça um Programa que leia três números e mostre o maior e o menor deles."
   ]
  },
  {
   "cell_type": "code",
   "execution_count": null,
   "id": "5ab86f02",
   "metadata": {},
   "outputs": [],
   "source": [
    "num1 = int(input('Informe o primeiro numero: '))\n",
    "num2 = int(input('Informe o segundo numero: '))\n",
    "num3 = int(input('Infotme o terceiro numero: '))\n",
    "\n",
    "\n",
    "if (num1 > num2) and (num1 > num3):\n",
    "    if num2 > num3:\n",
    "        print(num1, num2, num3)\n",
    "        print('O maior valor é: ', num1)\n",
    "        print('O menor valor é: ', num3)\n",
    "        \n",
    "    else:\n",
    "        print(num1, num3, num2)\n",
    "        print('O maior valor é: ', num1)\n",
    "        print('O menor valor é: ', num2)\n",
    "\n",
    "\n",
    "elif (num2 > num1) and (num2 > num3):\n",
    "\n",
    "    if num1 > num3:\n",
    "        print(num2, num1, num3)\n",
    "        print('O maior valor é: ', num2)\n",
    "        print('O menor valor é: ', num3)\n",
    "        \n",
    "    else:\n",
    "        print(num2, num3, num1)\n",
    "        print('O maior valor é: ', num2)\n",
    "        print('O menor valor é: ', num1)\n",
    "\n",
    "elif (num3 > num1) and (num3 > num2):\n",
    "\n",
    "    if num3 > num1:\n",
    "        print(num3, num1, num2)\n",
    "        print('O maior valor é: ', num3)\n",
    "        print('O menor valor é: ', num2)\n",
    "        \n",
    "    else:\n",
    "        print(num3, num2, num1)\n",
    "        print('O maior valor é: ', num3)\n",
    "        print('O menor valor é: ', num1)\n",
    "        \n"
   ]
  },
  {
   "cell_type": "markdown",
   "id": "ebb02fec",
   "metadata": {},
   "source": [
    "Código 04 - Escreva um programa que solicite ao usuário um número inteiro e verifique se ele é um número perfeito. Um número perfeito é aquele cuja soma dos seus divisores (excluindo ele mesmo) é igual ao próprio número. Por exemplo, 6 é um número perfeito, pois seus divisores são 1, 2 e 3, e 1 + 2 + 3 = 6."
   ]
  },
  {
   "cell_type": "code",
   "execution_count": null,
   "id": "d2089b5a",
   "metadata": {},
   "outputs": [],
   "source": [
    "numero = int(input('Informe um numero: '))\n",
    "\n",
    "soma_divisores = 1\n",
    "\n",
    "if (numero % 2) == 0:\n",
    "    soma_divisores = soma_divisores + 2\n",
    "    \n",
    "if (numero % 3) == 0:\n",
    "    soma_divisores = soma_divisores + 3\n",
    "    \n",
    "if soma_divisores == numero:\n",
    "    print('É um numero perfeito')\n",
    "else:\n",
    "    print('Não é um numero perfeito')"
   ]
  },
  {
   "cell_type": "code",
   "execution_count": null,
   "id": "23c9dfe7",
   "metadata": {},
   "outputs": [],
   "source": [
    "num = int(input('Digite um numero inteiro: '))\n",
    "\n",
    "soma_divisor = 0\n",
    "\n",
    "if soma_divisor <= num:\n",
    "    soma_divisor += 1\n",
    "    \n",
    "if soma_divisor <= num:\n",
    "    soma_divisor += 2\n",
    "    \n",
    "if soma_divisor <= num:\n",
    "    soma_divisor += 3\n",
    "\n",
    "if soma_divisor != num:\n",
    "    print('Não é um numero perfeito')\n",
    "else:\n",
    "    print('É um numero perfeito')"
   ]
  },
  {
   "cell_type": "markdown",
   "id": "69af2d2c",
   "metadata": {},
   "source": [
    "Código 03 -  Escreva um programa que solicite ao usuário a idade de uma pessoa e verifique se ela é maior de idade (idade igual ou superior a 18) e se possui carteira de motorista. Em seguida, exiba a mensagem correspondente.\n"
   ]
  },
  {
   "cell_type": "code",
   "execution_count": null,
   "id": "bed4cdea",
   "metadata": {},
   "outputs": [],
   "source": [
    "idade = int(input('Informe sua idade: '))\n",
    "\n",
    "if idade >= 18:\n",
    "    print('É maior de 18 anos, você pode tirar carteira de habilitação')\n",
    "else:\n",
    "    print('Não é maior de 18 anos, não pode tirar a carteira de habilitação')\n"
   ]
  },
  {
   "cell_type": "markdown",
   "id": "08c6f378",
   "metadata": {},
   "source": [
    "Código 06 -  Escreva um programa que solicite ao usuário o nome de um mês e verifique se ele corresponde a um mês de verão (dezembro, janeiro ou fevereiro). Em seguida, exiba a mensagem correspondente."
   ]
  },
  {
   "cell_type": "code",
   "execution_count": 8,
   "id": "600e8120",
   "metadata": {},
   "outputs": [
    {
     "name": "stdout",
     "output_type": "stream",
     "text": [
      "Informe um mês: Janeiro\n",
      " janeiro é mês de verão\n"
     ]
    }
   ],
   "source": [
    "mes = input('Informe um mês: ')\n",
    "mes = mes.lower() # .lower() converte uma string em minusculo\n",
    "\n",
    "if mes == 'dezembro' or mes == 'janeiro' or mes == 'fevereiro':\n",
    "    print(f' {mes} é mês de verão')\n",
    "          \n",
    "else:\n",
    "    print(f'{mes} não é mês de verão')\n",
    "    "
   ]
  },
  {
   "cell_type": "markdown",
   "id": "a0ac95cf",
   "metadata": {},
   "source": [
    "Código 05 -  Escreva um programa que solicite ao usuário um número inteiro e verifique se ele é um número primo. Em seguida, exiba a mensagem correspondente. (Reutilize a questão anterior ou elabore um código diferente)."
   ]
  },
  {
   "cell_type": "code",
   "execution_count": 1,
   "id": "58c25d14",
   "metadata": {
    "scrolled": true
   },
   "outputs": [
    {
     "name": "stdout",
     "output_type": "stream",
     "text": [
      "Informe um numero: 1\n",
      "Não é numero primo\n"
     ]
    }
   ],
   "source": [
    "#OBS: Ajustar este código após a aula de FOR e WHIILLE\n",
    "\n",
    "numero = int(input('Informe um numero: '))\n",
    "\n",
    "if numero == 2:\n",
    "    print('É um numero primo')\n",
    "    \n",
    "elif numero % 1 == 0 and (numero % numero == 0) and (numero % 2 != 0) and (numero > 1):\n",
    "    print('É um numero primo')\n",
    "    \n",
    "else:\n",
    "    print('Não é numero primo')"
   ]
  },
  {
   "cell_type": "markdown",
   "id": "0122df31",
   "metadata": {},
   "source": [
    "Código 07 -  Escreva um programa que solicite ao usuário um número inteiro e verifique se ele é um quadrado perfeito. Um número é considerado um quadrado perfeito quando sua raiz quadrada é um número inteiro."
   ]
  },
  {
   "cell_type": "code",
   "execution_count": 3,
   "id": "195f5a9c",
   "metadata": {},
   "outputs": [
    {
     "name": "stdout",
     "output_type": "stream",
     "text": [
      "Digite um numero inteiro: 7\n",
      "2.6457513110645907\n",
      "False\n",
      "Este numero não é um quadrado perfeito\n"
     ]
    }
   ],
   "source": [
    "import math\n",
    "\n",
    "num = int(input('Digite um numero inteiro: '))\n",
    "\n",
    "raiz = math.sqrt(num) #Raiz quadrada\n",
    "print(raiz)\n",
    "print(raiz.is_integer())\n",
    "\n",
    "if raiz.is_integer() == True:\n",
    "    print('Este numero é um quadrado perfeito')\n",
    "else:\n",
    "    print('Este numero não é um quadrado perfeito')"
   ]
  },
  {
   "cell_type": "markdown",
   "id": "2738ed4f",
   "metadata": {},
   "source": [
    "ódigo 09 - Faça um Programa que leia 2 números e em seguida pergunte ao usuário qual operação ele deseja realizar. O resultado da operação deve ser acompanhado de uma frase que diga se o número é:\n",
    "\n",
    "·        par ou ímpar;\n",
    "\n",
    "·        positivo ou negativo;\n",
    "\n",
    "·        inteiro ou decimal."
   ]
  },
  {
   "cell_type": "code",
   "execution_count": null,
   "id": "913fef25",
   "metadata": {},
   "outputs": [],
   "source": [
    "numero1 = int(input('Informe o primeiro numero: '))\n",
    "numero2 = int(input('Informe o segundo numero: '))\n",
    "operacao = input(\"Digite a operação que deseja realizar: [+, -, /, *]: \")\n",
    "\n",
    "print('-------------------------')\n",
    "    \n",
    "def checar():\n",
    "    if (resultado_operacao // 1 == resultado_operacao):\n",
    "        print(\"Inteiro\")\n",
    "        if resultado_operacao % 2 == 0:\n",
    "            print(\"Par\")\n",
    "            if resultado_operacao > 0:\n",
    "                print(\"Positivo\")\n",
    "            else:\n",
    "                print(\"Negativo\")\n",
    "        else:\n",
    "            print(\"Impar\")\n",
    "    else:\n",
    "        print(\"Decimal\")\n",
    "\n",
    "\n",
    "if operacao == '+':\n",
    "    resultado_operacao = numero1 + numero2\n",
    "    print(\"Resultado: \", resultado_operacao)\n",
    "    checar()\n",
    "elif operacao == '-':\n",
    "    resultado_operacao = numero1 - numero2\n",
    "    print(\"Resultado: \", resultado_operacao)\n",
    "    checar()\n",
    "elif operacao == '/':\n",
    "    resultado_operacao = numero1 / numero2\n",
    "    print(\"Resultado: \", resultado_operacao)\n",
    "    checar()\n",
    "elif operacao == '*':\n",
    "    resultado_operacao = numero1 * numero2\n",
    "    print(\"Resultado: \", resultado_operacao)\n",
    "    checar()\n",
    "else:\n",
    "    print(\"Valor Invalido\")"
   ]
  },
  {
   "cell_type": "markdown",
   "id": "62c8d1d0",
   "metadata": {},
   "source": [
    "Código 10 - Faça um programa para o cálculo de uma folha de pagamento, sabendo que os descontos são do Imposto de Renda, que depende do salário bruto (conforme tabela abaixo) e 3% para o Sindicato e que o FGTS corresponde a 11% do Salário Bruto, mas não é descontado (é a empresa que deposita). O Salário Líquido corresponde ao Salário Bruto menos os descontos. O programa deverá pedir ao usuário o valor da sua hora e a quantidade de horas trabalhadas no mês.\n",
    "Desconto do IR:\n",
    "\n",
    "·        Salário Bruto até 900 (inclusive) – isento\n",
    "\n",
    "·        Salário Bruto até 1500 (inclusive) - desconto de 5%\n",
    "\n",
    "·        Salário Bruto até 2500 (inclusive) - desconto de 10%\n",
    "\n",
    "·        Salário Bruto acima de 2500 - desconto de 20% "
   ]
  },
  {
   "cell_type": "code",
   "execution_count": null,
   "id": "3a8a8f1b",
   "metadata": {},
   "outputs": [],
   "source": [
    "valor_da_hora = float(input(\"Digite quanto você recebe por hora: \"))\n",
    "horas_trabalhadas = float(input(\"Digite quantas horas você trabalhou esse mês: \"))\n",
    "\n",
    "salario_bruto = valor_da_hora * horas_trabalhadas\n",
    "\n",
    "if salario_bruto <= 900:\n",
    "    desconto_ir = 0.0\n",
    "elif salario_bruto <= 1500:\n",
    "    desconto_ir = 5\n",
    "elif salario_bruto <= 2500:\n",
    "    desconto_ir = 10\n",
    "else:\n",
    "    desconto_ir = 20\n",
    "\n",
    "IR = salario_bruto * (desconto_ir / 100)\n",
    "INSS = salario_bruto * (10 / 100)\n",
    "FGTS = salario_bruto * (11 / 100)\n",
    "total_de_descontos = IR + INSS\n",
    "salario_liquido = salario_bruto - total_de_descontos\n",
    "\n",
    "print(\n",
    "    f\"\\nSalário Bruto     : R${salario_bruto:.2f}\",\n",
    "    f\"\\n(-) IR (5%)       : R${IR:.2f}\",\n",
    "    f\"\\n(-) INSS ( 10%)   : R${INSS:.2f}\",\n",
    "    f\"\\nFGTS (11%)        : R${FGTS:.2f}\",\n",
    "    f\"\\nTotal de descontos: R${total_de_descontos:.2f}\",\n",
    "    f\"\\nSalário Liquido   : R${salario_liquido:.2f}\",\n",
    ")"
   ]
  }
 ],
 "metadata": {
  "kernelspec": {
   "display_name": "Python 3 (ipykernel)",
   "language": "python",
   "name": "python3"
  },
  "language_info": {
   "codemirror_mode": {
    "name": "ipython",
    "version": 3
   },
   "file_extension": ".py",
   "mimetype": "text/x-python",
   "name": "python",
   "nbconvert_exporter": "python",
   "pygments_lexer": "ipython3",
   "version": "3.10.9"
  }
 },
 "nbformat": 4,
 "nbformat_minor": 5
}
