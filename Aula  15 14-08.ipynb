{
 "cells": [
  {
   "cell_type": "code",
   "execution_count": 1,
   "metadata": {},
   "outputs": [
    {
     "name": "stdout",
     "output_type": "stream",
     "text": [
      "Collecting PyPDF2\n",
      "  Downloading pypdf2-3.0.1-py3-none-any.whl (232 kB)\n",
      "     -------------------------------------- 232.6/232.6 kB 3.5 MB/s eta 0:00:00\n",
      "Installing collected packages: PyPDF2\n",
      "Successfully installed PyPDF2-3.0.1\n"
     ]
    },
    {
     "name": "stderr",
     "output_type": "stream",
     "text": [
      "\n",
      "[notice] A new release of pip available: 22.3 -> 23.2.1\n",
      "[notice] To update, run: python.exe -m pip install --upgrade pip\n"
     ]
    }
   ],
   "source": [
    "#Instalando a biblioteca do PyPDF2\n",
    "!pip install PyPDF2"
   ]
  },
  {
   "cell_type": "code",
   "execution_count": 3,
   "metadata": {},
   "outputs": [
    {
     "name": "stdout",
     "output_type": "stream",
     "text": [
      "Collecting openpyxl\n",
      "  Downloading openpyxl-3.1.2-py2.py3-none-any.whl (249 kB)\n",
      "     -------------------------------------- 250.0/250.0 kB 5.2 MB/s eta 0:00:00\n",
      "Collecting et-xmlfile\n",
      "  Downloading et_xmlfile-1.1.0-py3-none-any.whl (4.7 kB)\n",
      "Installing collected packages: et-xmlfile, openpyxl\n",
      "Successfully installed et-xmlfile-1.1.0 openpyxl-3.1.2\n"
     ]
    },
    {
     "name": "stderr",
     "output_type": "stream",
     "text": [
      "\n",
      "[notice] A new release of pip available: 22.3 -> 23.2.1\n",
      "[notice] To update, run: python.exe -m pip install --upgrade pip\n"
     ]
    }
   ],
   "source": [
    "!pip install openpyxl"
   ]
  },
  {
   "cell_type": "code",
   "execution_count": 31,
   "metadata": {},
   "outputs": [],
   "source": [
    "#--------------------Importação das bibliotecas\n",
    "import PyPDF2 as pdf\n",
    "import openpyxl\n",
    "import os\n",
    "\n",
    "#--------------------Alimentar as variáveis\n",
    "caminho =  'C:\\\\Users\\\\FIC\\\\Documents\\\\Ana Julia Moreira - Python\\\\Arquivos 2\\\\'\n",
    "arquivo = 'Gastos.pdf'\n",
    "\n",
    "#--------------------Abrir o documento e manipulá-lo\n",
    "pdf_file = open(caminho + arquivo, 'rb')\n",
    "\n",
    "#--------------------Leitura do arquivo pdf\n",
    "read_pdf = pdf.PdfReader(pdf_file)\n",
    "\n",
    "#---------------Número de páginas existentes no arquivo pdf\n",
    "number_of_pages = len(read_pdf.pages)\n",
    "\n",
    "#---------------Ler uma pagina espeifica \n",
    "page = read_pdf.pages[0]\n",
    "\n",
    "#---------------Extrair um texto da página \n",
    "page_content = page.extract_text()\n",
    "\n",
    "#----------------Tratamento dos dados \n",
    "parsed = page_content.splitlines()\n",
    "\n",
    "parsed.remove(' ')\n",
    "\n",
    "#print(parsed)\n",
    "\n",
    "#----------------Converter a lista em string\n",
    "#Separando os elementos por /\n",
    "texto = '/'.join(parsed)\n",
    "\n",
    "#----------------Substituit vircula por ponto \n",
    "texto = texto.replace(',','.')\n",
    "texto = texto.replace('  /',',')\n",
    "texto = texto.replace('  ',' ')\n",
    "texto = texto.replace(',','/')\n",
    "texto = texto.replace(' ',',')\n",
    "\n",
    "parsed = texto.split('/') #Converter como lista\n",
    "\n",
    "#----------------Converter os elementos da lista parsed em sublistas\n",
    "#E incluir na lista dados \n",
    "\n",
    "lista_dados = [] #Lista vazia\n",
    "\n",
    "#len(parsed) - retorna a quantidade de elementos \n",
    "\n",
    "for i in range(0,len(parsed)):\n",
    "    #Adcionar elementos a lista dados\n",
    "    lista_dados.append([parsed[i]])\n",
    "\n",
    "#print(lista_dados)\n",
    "\n",
    "#--------------Dividir as strings em elementos isolados \n",
    "\n",
    "lista = []\n",
    "i = 0\n",
    "\n",
    "for x in lista_dados:\n",
    "    a = ','.join(lista_dados[i])\n",
    "    lista.append(a.split(','))\n",
    "\n",
    "    i += 1\n",
    "\n",
    "#Teste\n",
    "\n",
    "wb = openpyxl.Workbook()\n",
    "ws = wb.active\n",
    "\n",
    "for row in lista:\n",
    "    ws.append(row)\n",
    "\n",
    "wb.save(filename='teste.xlsx')"
   ]
  }
 ],
 "metadata": {
  "kernelspec": {
   "display_name": "Python 3",
   "language": "python",
   "name": "python3"
  },
  "language_info": {
   "codemirror_mode": {
    "name": "ipython",
    "version": 3
   },
   "file_extension": ".py",
   "mimetype": "text/x-python",
   "name": "python",
   "nbconvert_exporter": "python",
   "pygments_lexer": "ipython3",
   "version": "3.11.0"
  },
  "orig_nbformat": 4
 },
 "nbformat": 4,
 "nbformat_minor": 2
}
