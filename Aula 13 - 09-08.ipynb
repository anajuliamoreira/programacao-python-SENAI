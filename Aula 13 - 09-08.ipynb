{
 "cells": [
  {
   "cell_type": "code",
   "execution_count": 10,
   "metadata": {},
   "outputs": [],
   "source": [
    "#Exercício 10. Faça uma função que recebe um valor inteiro e verifica se o valor é par ou \n",
    "#ímpar. A função deve retornar um valor booleano.\n",
    "\n",
    "\n",
    "#Criando uma função\n",
    "def par_ou_impar(numero):\n",
    "\n",
    "    numero = int(numero)\n",
    "\n",
    "    if numero % 2 == 0:\n",
    "        resultado = True\n",
    "    else:\n",
    "        resultado = False\n",
    "\n",
    "    return resultado \n",
    "\n",
    "#Criar uma função para traduzir TRUE (PAR) e FALSE(IMPAR)\n",
    "\n",
    "def conversion(result):\n",
    "\n",
    "    if result:\n",
    "        resultado = 'Par'\n",
    "    else:\n",
    "        resultado = 'Impar'\n",
    "        \n",
    "    return resultado"
   ]
  },
  {
   "cell_type": "code",
   "execution_count": 12,
   "metadata": {},
   "outputs": [
    {
     "data": {
      "text/plain": [
       "'Par'"
      ]
     },
     "execution_count": 12,
     "metadata": {},
     "output_type": "execute_result"
    }
   ],
   "source": [
    "valor = input('Digite um numero: ')\n",
    "\n",
    "conversion(par_ou_impar(valor))\n"
   ]
  },
  {
   "cell_type": "markdown",
   "metadata": {},
   "source": [
    "Exercício 11. Faça uma função que recebe a média final de um aluno por parãmetro e\n",
    "retorna o seu conceito, conforme a tabela abaixo:\n"
   ]
  },
  {
   "cell_type": "code",
   "execution_count": 1,
   "metadata": {},
   "outputs": [],
   "source": [
    "def conceito_final(nota):\n",
    "\n",
    "    nota = float(nota)\n",
    "\n",
    "    if nota >= 0 and nota <=4.9:\n",
    "        conceito = 'D'\n",
    "    elif nota >= 5 and nota <=6.9:\n",
    "        conceito = 'C'\n",
    "    elif nota >= 7 and nota <= 8.9:\n",
    "        conceito = 'B'\n",
    "    elif nota >= 9 and nota<=10:\n",
    "        conceito = 'A'\n",
    "    else:\n",
    "        conceito = 'Digite uma nota entre 0 e 10'\n",
    "    \n",
    "    return conceito"
   ]
  },
  {
   "cell_type": "code",
   "execution_count": 3,
   "metadata": {},
   "outputs": [
    {
     "name": "stdout",
     "output_type": "stream",
     "text": [
      "Sua nota final é 5, portanto, seu conceito final é C.\n"
     ]
    }
   ],
   "source": [
    "nota = input('Digite sua nota: ')\n",
    "\n",
    "print(f'Sua nota final é {nota}, portanto, seu conceito final é {conceito_final(nota)}.')"
   ]
  },
  {
   "cell_type": "markdown",
   "metadata": {},
   "source": [
    "Exercício 12. Faça uma função que recebe, por parâmetro, a altura (alt) e o gênero de uma\n",
    "pessoa e retorna o seu peso ideal. Para homens, calcular o peso ideal usando a fórmula\n",
    "peso ideal = 72.7 x alt - 58 e, para mulheres, peso ideal = 62.1 x alt - 44.7."
   ]
  },
  {
   "cell_type": "code",
   "execution_count": 4,
   "metadata": {},
   "outputs": [],
   "source": [
    "def peso_ideal(altura, genero):\n",
    "    altura = float(altura)\n",
    "    genero = genero.lower()\n",
    "\n",
    "    if genero == 'h':\n",
    "        result = 72.7 * altura - 58\n",
    "    elif genero == 'm':\n",
    "        result = 62.1 * altura - 44.7\n",
    "    else:\n",
    "        result = 'Digite uma letra válida. [H] Homem / [M] Mulher.'\n",
    "    \n",
    "    return result"
   ]
  },
  {
   "cell_type": "code",
   "execution_count": 6,
   "metadata": {},
   "outputs": [
    {
     "data": {
      "text/plain": [
       "61.491"
      ]
     },
     "execution_count": 6,
     "metadata": {},
     "output_type": "execute_result"
    }
   ],
   "source": [
    "alt = input('Informe sua altura: ')\n",
    "gen = input('Qual gênero você se identifica: ')\n",
    "\n",
    "peso_ideal(alt,gen)"
   ]
  },
  {
   "cell_type": "markdown",
   "metadata": {},
   "source": [
    "Desafio 01 - Escreva uma função Python para somar todos os números em uma\n",
    "lista.\n",
    "\n",
    "• Lista de amostra: (8, 2, 3, 0, 7)\n",
    "\n",
    "• Saída esperada: 20"
   ]
  },
  {
   "cell_type": "code",
   "execution_count": 7,
   "metadata": {},
   "outputs": [],
   "source": [
    "def somar_listas(lista):\n",
    "\n",
    "    soma = 0\n",
    "\n",
    "    for x in lista:\n",
    "        soma += x\n",
    "\n",
    "    return soma"
   ]
  },
  {
   "cell_type": "code",
   "execution_count": 8,
   "metadata": {},
   "outputs": [
    {
     "data": {
      "text/plain": [
       "78"
      ]
     },
     "execution_count": 8,
     "metadata": {},
     "output_type": "execute_result"
    }
   ],
   "source": [
    "list = [1,2,3,4,5,6,7,8,9,10,23]\n",
    "\n",
    "somar_listas(list)"
   ]
  },
  {
   "cell_type": "markdown",
   "metadata": {},
   "source": [
    "Desafio 02 - Escreva uma função Python para multiplicar todos os números em uma\n",
    "lista.\n",
    "\n",
    "• Lista de amostra: (8, 2, 3, -1, 7)\n",
    "\n",
    "• Saída esperada: -336"
   ]
  },
  {
   "cell_type": "code",
   "execution_count": null,
   "metadata": {},
   "outputs": [],
   "source": []
  }
 ],
 "metadata": {
  "kernelspec": {
   "display_name": "base",
   "language": "python",
   "name": "python3"
  },
  "language_info": {
   "codemirror_mode": {
    "name": "ipython",
    "version": 3
   },
   "file_extension": ".py",
   "mimetype": "text/x-python",
   "name": "python",
   "nbconvert_exporter": "python",
   "pygments_lexer": "ipython3",
   "version": "3.10.9"
  },
  "orig_nbformat": 4
 },
 "nbformat": 4,
 "nbformat_minor": 2
}
