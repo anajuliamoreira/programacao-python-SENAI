{
 "cells": [
  {
   "cell_type": "code",
   "execution_count": 1,
   "metadata": {},
   "outputs": [
    {
     "name": "stdout",
     "output_type": "stream",
     "text": [
      "Requirement already satisfied: openpyxl in c:\\users\\fic\\anaconda3\\lib\\site-packages (3.0.10)\n",
      "Requirement already satisfied: et_xmlfile in c:\\users\\fic\\anaconda3\\lib\\site-packages (from openpyxl) (1.1.0)\n"
     ]
    }
   ],
   "source": [
    "!pip install openpyxl"
   ]
  },
  {
   "cell_type": "code",
   "execution_count": 15,
   "metadata": {},
   "outputs": [
    {
     "name": "stdout",
     "output_type": "stream",
     "text": [
      "Escrevendo no nosso arquivo excel gastos.xlsx\n"
     ]
    }
   ],
   "source": [
    "#---------------------Importando a biblioteca \n",
    "import openpyxl \n",
    "#---------------------Abrindo o arquivo txt\n",
    "caminho = 'C:\\\\Users\\\\FIC\\\\Documents\\\\Ana Julia Moreira - Python\\Arquivos\\\\'\n",
    "\n",
    "#--------------------Criação da conexão com o arquivo \n",
    "f = open(caminho + 'gastos.txt','r', encoding='utf-8')\n",
    "\n",
    "#--------------------Leitura do conteudo do arquivo\n",
    "arquivo = f.read()\n",
    "\n",
    "#-------------------Convertendo o conteúdo em uma lista\n",
    "lista_dados = arquivo.splitlines()\n",
    "\n",
    "#--------------------Dividimos a lista em sublistas\n",
    "#O código repete 12 vezes pegando cada elemento da linha anterior e gerando sublistas na lista \n",
    "#principal, isso vai permitir separar os dados por linha no excel \n",
    "\n",
    "for i in range(0, len(lista_dados)):\n",
    "    lista_dados[i] = lista_dados[i].split(',')\n",
    "\n",
    "#--------------------Criando o arquivo\n",
    "wb = openpyxl.Workbook() #Criando o arquivo\n",
    "ws = wb.active #Criando planilha (aba)\n",
    "\n",
    "\n",
    "#--------------------Inserir os dados na planilha \n",
    "for linha in lista_dados:\n",
    "    ws.append(linha)\n",
    "\n",
    "#--------------------Salvar documento\n",
    "wb.save(filename = 'gastos.xlsx')"
   ]
  }
 ],
 "metadata": {
  "kernelspec": {
   "display_name": "base",
   "language": "python",
   "name": "python3"
  },
  "language_info": {
   "codemirror_mode": {
    "name": "ipython",
    "version": 3
   },
   "file_extension": ".py",
   "mimetype": "text/x-python",
   "name": "python",
   "nbconvert_exporter": "python",
   "pygments_lexer": "ipython3",
   "version": "3.10.9"
  },
  "orig_nbformat": 4
 },
 "nbformat": 4,
 "nbformat_minor": 2
}
