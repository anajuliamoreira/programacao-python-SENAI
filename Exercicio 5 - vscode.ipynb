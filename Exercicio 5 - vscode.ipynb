{
 "cells": [
  {
   "cell_type": "code",
   "execution_count": 1,
   "metadata": {},
   "outputs": [
    {
     "name": "stdout",
     "output_type": "stream",
     "text": [
      "Requirement already satisfied: xlsxwriter in c:\\python311\\lib\\site-packages (3.1.2)\n"
     ]
    },
    {
     "name": "stderr",
     "output_type": "stream",
     "text": [
      "\n",
      "[notice] A new release of pip available: 22.3 -> 23.2.1\n",
      "[notice] To update, run: python.exe -m pip install --upgrade pip\n",
      "ERROR: Could not find a version that satisfies the requirement os (from versions: none)\n",
      "ERROR: No matching distribution found for os\n",
      "\n",
      "[notice] A new release of pip available: 22.3 -> 23.2.1\n",
      "[notice] To update, run: python.exe -m pip install --upgrade pip\n"
     ]
    }
   ],
   "source": [
    "!pip install xlsxwriter\n",
    "!pip install os\n"
   ]
  },
  {
   "cell_type": "code",
   "execution_count": 25,
   "metadata": {},
   "outputs": [],
   "source": [
    "#------------------------------ Importar as bibliotecas\n",
    "import xlsxwriter as xlsx\n",
    "import os\n",
    "\n",
    "#------------------------------- Caminho e arquivo \n",
    "caminho = 'C:\\\\Users\\\\FIC\\\\Documents\\\\Ana Julia Moreira - Python\\\\'\n",
    "arquivo = 'Exercicio 05.xlsx'\n",
    "\n",
    "#------------------------------- Criar uma pasta de trabalho\n",
    "workbook = xlsx.Workbook(caminho + arquivo)\n",
    "sheetDados = workbook.add_worksheet('Relatório')\n",
    "\n",
    "#--------------------------------Listar os dados\n",
    "\n",
    "dados = [\n",
    "    ['Produto','Qtd','Preço','Subtotal'],\n",
    "    ['Calça',5,50],\n",
    "    ['Camisa',4,30],\n",
    "    ['Sapato',5,40],\n",
    "    ['Saia',8,20],\n",
    "    ['Blusa',6,10],\n",
    "    ['Shorts',8,25],\n",
    "]\n",
    "\n",
    "#----------------------------------Configuração da formatação \n",
    "corTitulo = workbook.add_format({'bold':True,\n",
    "                                'font_size': 20,\n",
    "                                 'align': 'center',\n",
    "                                 'font_name':'Arial'\n",
    "                                })\n",
    "\n",
    "formTitulos = workbook.add_format({'bold':True,\n",
    "                             'font_size': 13,\n",
    "                             'align': 'center',\n",
    "                             'bg_color':'#EA61CD',\n",
    "                             'font_color':'#FFFFFF',\n",
    "                             'font_name':'Arial',\n",
    "                             'border':True\n",
    "                            })\n",
    "\n",
    "formData = workbook.add_format({'bold':True,\n",
    "                                'font_size': 11,\n",
    "                                'font':'Arial',\n",
    "                                'font_color':'#EA61CD',\n",
    "                                'border':True,\n",
    "                                'num_format':'dd/mm/yyyy'\n",
    "                                })\n",
    "\n",
    "formValores = workbook.add_format({'num_format': 'R$ * #.##0,0',\n",
    "                                  'font_color':'gray',\n",
    "                                  'font_name':'Arial',\n",
    "                                  'border':True,\n",
    "                                    'align':'center'})\n",
    "\n",
    "rotulosLinhas = workbook.add_format({'font_color':'gray',\n",
    "                                  'font_name':'Arial',\n",
    "                                  'align':'left'})\n",
    "\n",
    "qtde = workbook.add_format({'font_color':'gray',\n",
    "                            'font_name':'Arial',\n",
    "                            'align':'center'})\n",
    "\n",
    "\n",
    "\n",
    "sheetDados.merge_range ('A1:D2','Planilha de Solicitações',corTitulo)\n",
    "sheetDados.write('A3','Data',formData)\n",
    "sheetDados.write('A4','Hora')\n",
    "sheetDados.write('C13','TOTAL')\n",
    "\n",
    "sheetDados.write_formula('B3','=today()')\n",
    "sheetDados.write_formula('B4','=now()')\n",
    "sheetDados.write_formula('D13','=sum(D7:D12)')\n",
    "\n",
    "\n",
    "#--------------------------------Registrar os dados na lista \n",
    "posLinha = 5\n",
    "posColuna = 0\n",
    "\n",
    "for linhas, listas in enumerate(dados):\n",
    "    if linhas == 0:\n",
    "         sheetDados.write_row(linhas + posLinha,posColuna,listas,formTitulos)\n",
    "    else:\n",
    "        sheetDados.write_row(linhas + posLinha,posColuna,listas)\n",
    "        sheetDados.write_formula(linhas + posLinha,posColuna + 3,'=B' + str(linhas+posLinha+1) + '*C' + str(linhas+posLinha+1),formValores)\n",
    "\n",
    "\n",
    "\n",
    "#----------------------------------Fechar e salvar\n",
    "workbook.close()\n",
    "#-----------------------------------Abrir o arquivo\n",
    "os.startfile(caminho + arquivo)\n"
   ]
  }
 ],
 "metadata": {
  "kernelspec": {
   "display_name": "base",
   "language": "python",
   "name": "python3"
  },
  "language_info": {
   "codemirror_mode": {
    "name": "ipython",
    "version": 3
   },
   "file_extension": ".py",
   "mimetype": "text/x-python",
   "name": "python",
   "nbconvert_exporter": "python",
   "pygments_lexer": "ipython3",
   "version": "3.11.0"
  },
  "orig_nbformat": 4
 },
 "nbformat": 4,
 "nbformat_minor": 2
}
