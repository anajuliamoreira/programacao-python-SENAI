{
 "cells": [
  {
   "cell_type": "code",
   "execution_count": null,
   "metadata": {},
   "outputs": [],
   "source": [
    "!pip install openpyxl"
   ]
  },
  {
   "cell_type": "code",
   "execution_count": 51,
   "metadata": {},
   "outputs": [],
   "source": [
    "import openpyxl\n",
    "\n",
    "caminho = 'C:\\\\Users\\\\FIC\\\\Documents\\\\Ana Julia Moreira - Python\\\\Arquivos\\\\'\n",
    "\n",
    "f = open(caminho + 'Virgula.txt','r',encoding='ANSI')\n",
    "\n",
    "arquivo = f.read()\n",
    "\n",
    "lista_dados = arquivo.splitlines()\n",
    "\n",
    "\n",
    "for i in range(0, len(lista_dados)):\n",
    "    lista_dados[i] = lista_dados[i].replace('\"','') #Substitui o texto anterior com aspas para um novo \n",
    "    lista_dados[i] = lista_dados[i].split(',')\n",
    "\n",
    "wb = openpyxl.Workbook()\n",
    "ws = wb.active\n",
    "\n",
    "for linha in lista_dados:\n",
    "    ws.append(linha)\n",
    "\n",
    "wb.save(filename = \"Virgula.xlsx\")"
   ]
  }
 ],
 "metadata": {
  "kernelspec": {
   "display_name": "base",
   "language": "python",
   "name": "python3"
  },
  "language_info": {
   "codemirror_mode": {
    "name": "ipython",
    "version": 3
   },
   "file_extension": ".py",
   "mimetype": "text/x-python",
   "name": "python",
   "nbconvert_exporter": "python",
   "pygments_lexer": "ipython3",
   "version": "3.11.0"
  },
  "orig_nbformat": 4
 },
 "nbformat": 4,
 "nbformat_minor": 2
}
