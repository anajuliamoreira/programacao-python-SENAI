{
 "cells": [
  {
   "cell_type": "markdown",
   "id": "e116dd16",
   "metadata": {},
   "source": [
    "Exercício 14 - Faça um programa que peça 10 números inteiros, calcule e mostre a\n",
    "quantidade de números pares e a quantidade de números ímpares."
   ]
  },
  {
   "cell_type": "code",
   "execution_count": null,
   "id": "7daa8181",
   "metadata": {},
   "outputs": [],
   "source": [
    "numeros = []\n",
    "\n",
    "i = 1\n",
    "\n",
    "while i <= 10:\n",
    "    num = int(input('Digite o numero: '))\n",
    "    numeros.append(num)\n",
    "    i = i + 1\n",
    "    \n",
    "par = 0\n",
    "impar = 0\n",
    "\n",
    "for x in numeros:\n",
    "    if x % 2 == 0:\n",
    "        par = par + 1\n",
    "    else:\n",
    "        impar = impar + 1\n",
    "\n",
    "print(f'Na lista {numeros}')\n",
    "print(f'Foram localizados {par} numeros pares.')\n",
    "print(f'Foram localizados {impar} numeros impares.')"
   ]
  },
  {
   "cell_type": "markdown",
   "id": "6820bc4b",
   "metadata": {},
   "source": [
    "Exercício 15 - A série de Fibonacci é formada pela sequência 1,1,2,3,5,8,13,21,34,55,...\n",
    "Faça um programa capaz de gerar a série até o enésimo termo."
   ]
  },
  {
   "cell_type": "code",
   "execution_count": 1,
   "id": "55e169d4",
   "metadata": {},
   "outputs": [
    {
     "name": "stdout",
     "output_type": "stream",
     "text": [
      "Digite a quantidade de termos a serem gerados: 10\n",
      "[1, 1, 2, 3, 5, 8, 13, 21, 34, 55, 89, 144]\n"
     ]
    }
   ],
   "source": [
    "quantidade_num = int(input('Digite a quantidade de termos a serem gerados: '))\n",
    "\n",
    "serie = [1] #A série Fibonacci sempre inicia com 1\n",
    "\n",
    "i = 0\n",
    "\n",
    "while i <= quantidade_num: #Vai repetir o bloco até o valor i ser igual a quantidade_num\n",
    "    \n",
    "    if serie[0] == 1 and i == 0:\n",
    "        serie.append(1)\n",
    "        \n",
    "    else:\n",
    "        a = serie[i] + serie[i-1]\n",
    "        serie.append(a)\n",
    "        \n",
    "    i = i+1\n",
    "    \n",
    "print(serie)    "
   ]
  },
  {
   "cell_type": "markdown",
   "id": "e3517c24",
   "metadata": {},
   "source": [
    "Exercício 16 - A série de Fibonacci é formada pela sequência\n",
    "0,1,1,2,3,5,8,13,21,34,55,... Faça um programa que gere a série até que o valor seja\n",
    "maior que 500."
   ]
  },
  {
   "cell_type": "code",
   "execution_count": 12,
   "id": "c3e75a31",
   "metadata": {},
   "outputs": [
    {
     "name": "stdout",
     "output_type": "stream",
     "text": [
      "[1, 1, 2, 3, 5, 8, 13, 21, 34, 55, 89, 144, 233, 377]\n"
     ]
    }
   ],
   "source": [
    "\n",
    "serie = [1,1] #A série Fibonacci sempre inicia com 1\n",
    "\n",
    "\n",
    "while serie[-1] <= 500: #Verifica se o ultimo elemento é menor que 500\n",
    "    \n",
    "    a = serie[-1] + serie[-2] #Ultimo e penultimo elemento \n",
    "    if a > 500:\n",
    "        break #Sair do laço de repetição // interrompe \n",
    "        \n",
    "    serie.append(a)\n",
    "\n",
    "    \n",
    "print(serie)    "
   ]
  },
  {
   "cell_type": "markdown",
   "id": "a3eb97f3",
   "metadata": {},
   "source": [
    "Exercício 24 - Faça um programa que calcule o mostre a média aritmética de N notas."
   ]
  },
  {
   "cell_type": "code",
   "execution_count": 32,
   "id": "ddc38a8d",
   "metadata": {},
   "outputs": [
    {
     "name": "stdout",
     "output_type": "stream",
     "text": [
      "Digite um numero: 10\n",
      "Digite um numero: 9\n",
      "Digite um numero: 7\n",
      "Digite um numero: 8\n",
      "Digite um numero: 5\n",
      "[10, 9, 7, 8, 5]\n",
      "7.8\n"
     ]
    }
   ],
   "source": [
    "controle = range(0,5)\n",
    "\n",
    "notas = []\n",
    "\n",
    "soma = 0\n",
    "\n",
    "for n in controle:\n",
    "    \n",
    "    num = int(input('Digite um numero: '))\n",
    "    notas.append(num)\n",
    "\n",
    "for n in notas:\n",
    "    soma = n + soma\n",
    "    media = soma / len(notas)\n",
    "    \n",
    "print(media)"
   ]
  },
  {
   "cell_type": "code",
   "execution_count": null,
   "id": "6fe3bc72",
   "metadata": {},
   "outputs": [],
   "source": [
    "notas = [10,8.5,9,8,6,7,9]\n",
    "\n",
    "soma = 0\n",
    "\n",
    "for n in notas:\n",
    "    soma = n + soma #Somar os elementos \n",
    "\n",
    "elementos = len(notas) #Tamanho da lista\n",
    "media = round(soma / elementos,1)\n",
    "\n",
    "    \n",
    "print(f'A média dos valores é: {media}')"
   ]
  },
  {
   "cell_type": "code",
   "execution_count": 34,
   "id": "3e7268da",
   "metadata": {},
   "outputs": [
    {
     "name": "stdout",
     "output_type": "stream",
     "text": [
      "Digite a nota. (Para sair digite S)10\n",
      "Digite a nota. (Para sair digite S)9\n",
      "Digite a nota. (Para sair digite S)8\n",
      "Digite a nota. (Para sair digite S)6\n",
      "Digite a nota. (Para sair digite S)7\n",
      "Digite a nota. (Para sair digite S)s\n",
      "A média dos valores é: 8.0\n"
     ]
    }
   ],
   "source": [
    "notas = []\n",
    "#------------------ Solicitação de valores / add na lista\n",
    "\n",
    "entrada = input('Digite a nota. (Para sair digite S)')\n",
    "\n",
    "while entrada.lower() != 's': #Enquanto não for S, digite \n",
    "    \n",
    "    notas.append(float(entrada))\n",
    "    entrada = input('Digite a nota. (Para sair digite S)')\n",
    "    \n",
    " \n",
    "\n",
    "#---------------------- Média\n",
    "\n",
    "soma = 0\n",
    "\n",
    "for n in notas:\n",
    "    soma = n + soma #Somar os elementos \n",
    "\n",
    "elementos = len(notas) #Tamanho da lista\n",
    "media = round(soma / elementos,1)\n",
    "\n",
    "    \n",
    "print(f'A média dos valores é: {media}')"
   ]
  }
 ],
 "metadata": {
  "kernelspec": {
   "display_name": "Python 3 (ipykernel)",
   "language": "python",
   "name": "python3"
  },
  "language_info": {
   "codemirror_mode": {
    "name": "ipython",
    "version": 3
   },
   "file_extension": ".py",
   "mimetype": "text/x-python",
   "name": "python",
   "nbconvert_exporter": "python",
   "pygments_lexer": "ipython3",
   "version": "3.10.9"
  }
 },
 "nbformat": 4,
 "nbformat_minor": 5
}
