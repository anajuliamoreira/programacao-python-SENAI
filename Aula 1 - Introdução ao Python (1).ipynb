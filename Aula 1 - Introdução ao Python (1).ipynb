{
 "cells": [
  {
   "cell_type": "markdown",
   "id": "1011bbf2",
   "metadata": {},
   "source": [
    "Exercício 01 – Crie um programa para receber dois valores e em seguida, exiba o valor\n",
    "da soma."
   ]
  },
  {
   "cell_type": "code",
   "execution_count": null,
   "id": "27bd162c",
   "metadata": {},
   "outputs": [],
   "source": [
    "valor1 = 10\n",
    "valor2 = 30\n",
    "soma = valor1 + valor2\n",
    "print(soma)"
   ]
  },
  {
   "cell_type": "markdown",
   "id": "ffe999ae",
   "metadata": {},
   "source": [
    "Exercício 02 – Crie um programa para receber dois valores e em seguida, exiba o valor\n",
    "da diferença entre eles."
   ]
  },
  {
   "cell_type": "code",
   "execution_count": null,
   "id": "50eba0c2",
   "metadata": {},
   "outputs": [],
   "source": [
    "valor1 = 10\n",
    "valor2 = 5\n",
    "diferenca = valor1 - valor2\n",
    "print(diferenca)"
   ]
  },
  {
   "cell_type": "markdown",
   "id": "fedb6d97",
   "metadata": {},
   "source": [
    "Exercício 03 – Crie um programa para receber dois valores e em seguida, exiba o\n",
    "produto entre eles."
   ]
  },
  {
   "cell_type": "code",
   "execution_count": null,
   "id": "b8a63ca9",
   "metadata": {},
   "outputs": [],
   "source": [
    "valor1 = 40\n",
    "valor2 = 2\n",
    "produto = valor1 * valor2\n",
    "print('O resultado da multiplicação é:', produto)"
   ]
  },
  {
   "cell_type": "markdown",
   "id": "354ac8f9",
   "metadata": {},
   "source": [
    "Exercício 04 - Crie um programa para receber dois valores e em seguida, exiba o\n",
    "quociente entre eles.\n"
   ]
  },
  {
   "cell_type": "code",
   "execution_count": null,
   "id": "4b34640b",
   "metadata": {},
   "outputs": [],
   "source": [
    "valor1 = 10\n",
    "valor2 = 5\n",
    "\n",
    "# Cálculo de divisão\n",
    "quociente = valor1 / valor2\n",
    "\n",
    "# Cálculo do resto da divisão\n",
    "\n",
    "resto = valor1 % valor2\n",
    "\n",
    "print('O resultado da divisão é:' , quociente)\n",
    "print('O resto da divisão é: ', resto)"
   ]
  },
  {
   "cell_type": "markdown",
   "id": "c8757bd4",
   "metadata": {},
   "source": [
    "Exercício 10 - Faça um Programa que converta metros para centímetros"
   ]
  },
  {
   "cell_type": "code",
   "execution_count": null,
   "id": "9c15c598",
   "metadata": {},
   "outputs": [],
   "source": [
    "#Solicitar ao usuario o valor em metros\n",
    "\n",
    "metros = input('Digite o valor em metros para converter em centimetros.')\n",
    " \n",
    "# Transformar a string em numero\n",
    "\n",
    "metros = int(metros)\n",
    "type(metros)\n",
    "\n",
    "centimetros = metros * 100\n",
    "\n",
    "print(centimetros)"
   ]
  },
  {
   "cell_type": "markdown",
   "id": "ec1e44af",
   "metadata": {},
   "source": [
    "Exercício 11 - Faça um Programa que peça o raio de um círculo, calcule e mostre sua\n",
    "área."
   ]
  },
  {
   "cell_type": "code",
   "execution_count": null,
   "id": "977cfcdd",
   "metadata": {},
   "outputs": [],
   "source": [
    "import math\n",
    "\n",
    "raio = input('Informe o raio do circulo ')\n",
    "\n",
    "raio = float(raio) #Numero decimal\n",
    "\n",
    "pi = math.pi\n",
    "\n",
    "area = round(pi * raio ** 2,3)\n",
    "\n",
    "print('A área do circulo é:', area)\n"
   ]
  },
  {
   "cell_type": "markdown",
   "id": "5d938690",
   "metadata": {},
   "source": [
    "Exercício 12 - Faça um Programa que calcule a área de um quadrado, em seguida\n",
    "mostre o dobro desta área para o usuário."
   ]
  },
  {
   "cell_type": "code",
   "execution_count": null,
   "id": "33210dce",
   "metadata": {},
   "outputs": [],
   "source": [
    "lado = input('Informe o valor do lado para calcular a área: ')\n",
    "\n",
    "lado = float(lado)\n",
    "\n",
    "print('O lado do quadrado é: ', lado, 'mm²')\n",
    "\n",
    "area = lado**2\n",
    "\n",
    "print('A area do quadrado é: ', area, 'mm²')\n",
    "\n",
    "dobro = area * 2\n",
    "\n",
    "print('O dobro da area é: ', dobro, 'mm²')"
   ]
  },
  {
   "cell_type": "markdown",
   "id": "f74aefa8",
   "metadata": {},
   "source": [
    "Exercício 13 - Faça um Programa que pergunte quanto você ganha por hora e o número\n",
    "de horas trabalhadas no mês. Calcule e mostre o total do seu salário no referido mês.\n"
   ]
  },
  {
   "cell_type": "code",
   "execution_count": null,
   "id": "858d9271",
   "metadata": {},
   "outputs": [],
   "source": [
    "valor = input('Informe qual o valor que você ganha por hora: ')\n",
    "horas = input('Informe o numero de horas trabalhadas: ')\n",
    "\n",
    "valor = int(valor)\n",
    "horas = int(horas)\n",
    "\n",
    "total = valor * horas\n",
    "\n",
    "print('O total do salario do mês é: ', total)"
   ]
  },
  {
   "cell_type": "markdown",
   "id": "3dd6e309",
   "metadata": {},
   "source": [
    "Exercício 14 - Faça um Programa que peça a temperatura em graus Fahrenheit,\n",
    "transforme e mostre a temperatura em graus Celsius."
   ]
  },
  {
   "cell_type": "code",
   "execution_count": null,
   "id": "d9762c7f",
   "metadata": {},
   "outputs": [],
   "source": [
    "f = input('Digite a temperatura em graus Fahrenheit: ')\n",
    "\n",
    "f = float(f)\n",
    "\n",
    "c = round(f - 32 / 1.8, 3)\n",
    "\n",
    "print('A temperatura em graus Celsius é: ', c)"
   ]
  },
  {
   "cell_type": "markdown",
   "id": "57793c16",
   "metadata": {},
   "source": [
    "Exercício 15 - Faça um Programa que peça a temperatura em graus Celsius, transforme\n",
    "e mostre em graus Fahrenheit."
   ]
  },
  {
   "cell_type": "code",
   "execution_count": null,
   "id": "59eab870",
   "metadata": {},
   "outputs": [],
   "source": [
    "c = input('Digite o valor em graus Celsius: ')\n",
    "\n",
    "c = float(c)\n",
    "\n",
    "f = round(c * 1.8 + 32, 3)\n",
    "\n",
    "print('A temperatuda em graus Fahrenheit é: ', f)"
   ]
  },
  {
   "cell_type": "markdown",
   "id": "b9365f5f",
   "metadata": {},
   "source": [
    "Exercício 16 - Faça um Programa que peça 2 números inteiros e um número real.\n",
    "Calcule e mostre:\n",
    "\n",
    "a) o produto do dobro do primeiro com metade do segundo.\n",
    "\n",
    "b) a soma do triplo do primeiro com o terceiro.\n",
    "\n",
    "c) o terceiro elevado ao cubo.\n"
   ]
  },
  {
   "cell_type": "code",
   "execution_count": 6,
   "id": "71def156",
   "metadata": {},
   "outputs": [
    {
     "name": "stdout",
     "output_type": "stream",
     "text": [
      "Digite o primeiro numero inteiro: 2\n",
      "Digite o segundo numero inteiro: 4\n",
      "Digite um numero real: 2.5\n",
      "O produto do dobro do primeiro com metade do segundo é:  6.0\n",
      "A soma do triplo do primeiro com o terceiro é:  10.5\n",
      "O terceiro elevado ao cubo é:  15.625\n"
     ]
    }
   ],
   "source": [
    "num1 = input('Digite o primeiro numero inteiro: ')\n",
    "num2 = input('Digite o segundo numero inteiro: ')\n",
    "num3 = input('Digite um numero real: ')\n",
    "\n",
    "num1 = int(num1)\n",
    "num2 = int(num2)\n",
    "num3 = float(num3)\n",
    "\n",
    "a = num1 * 2 + num2 / 2\n",
    "\n",
    "b = num1 * 3 + num1 + num3\n",
    "\n",
    "c = num3 ** 3\n",
    "\n",
    "print('O produto do dobro do primeiro com metade do segundo é: ', a)\n",
    "print('A soma do triplo do primeiro com o terceiro é: ', b)\n",
    "print('O terceiro elevado ao cubo é: ', c)"
   ]
  },
  {
   "cell_type": "markdown",
   "id": "9351c3ea",
   "metadata": {},
   "source": [
    "Exercício 17 - João Papo-de-Pescador, homem de bem, comprou um microcomputador\n",
    "para controlar o rendimento diário de seu trabalho. \n",
    "\n",
    "Toda vez que ele traz um peso de peixes maior que o estabelecido pelo regulamento de pesca do estado de São Paulo (50 quilos) deve pagar uma multa de R$ 4,00 por quilo excedente. \n",
    "\n",
    "João precisa que você faça um programa que leia a variável peso (peso de peixes) e calcule o excesso.\n",
    "\n",
    "Gravar na variável excesso a quantidade de quilos além do limite e na variável multa o valor da multa que João deverá pagar. Imprima os dados do programa com as mensagens adequadas."
   ]
  },
  {
   "cell_type": "code",
   "execution_count": null,
   "id": "2f7d08f4",
   "metadata": {},
   "outputs": [],
   "source": [
    "peso = input('Digite o peso do peixe: ')\n",
    "\n",
    "estabelecido = 50\n",
    "multa = 4\n",
    "\n"
   ]
  }
 ],
 "metadata": {
  "kernelspec": {
   "display_name": "Python 3 (ipykernel)",
   "language": "python",
   "name": "python3"
  },
  "language_info": {
   "codemirror_mode": {
    "name": "ipython",
    "version": 3
   },
   "file_extension": ".py",
   "mimetype": "text/x-python",
   "name": "python",
   "nbconvert_exporter": "python",
   "pygments_lexer": "ipython3",
   "version": "3.10.9"
  }
 },
 "nbformat": 4,
 "nbformat_minor": 5
}
