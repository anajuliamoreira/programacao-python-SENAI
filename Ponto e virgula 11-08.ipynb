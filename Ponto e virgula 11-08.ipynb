{
 "cells": [
  {
   "cell_type": "code",
   "execution_count": 1,
   "metadata": {},
   "outputs": [
    {
     "name": "stdout",
     "output_type": "stream",
     "text": [
      "Requirement already satisfied: openpyxl in c:\\users\\fic\\anaconda3\\lib\\site-packages (3.0.10)\n",
      "Requirement already satisfied: et_xmlfile in c:\\users\\fic\\anaconda3\\lib\\site-packages (from openpyxl) (1.1.0)\n"
     ]
    }
   ],
   "source": [
    "!pip install openpyxl"
   ]
  },
  {
   "cell_type": "code",
   "execution_count": 6,
   "metadata": {},
   "outputs": [],
   "source": [
    "import openpyxl\n",
    "\n",
    "caminho = 'C:\\\\Users\\\\FIC\\\\Documents\\\\Ana Julia Moreira - Python\\\\Arquivos\\\\'\n",
    "\n",
    "f = open(caminho + 'Arquivo Texto Delimitado Ponto e Virgula.txt','r', encoding='ANSI')\n",
    "\n",
    "arquivo = f.read()\n",
    "\n",
    "lista_dados = arquivo.splitlines()\n",
    "\n",
    "for i in range(0, len(lista_dados)):\n",
    "    lista_dados[i] = lista_dados[i].replace('\"','')\n",
    "    lista_dados[i] = lista_dados[i].split(';')\n",
    "\n",
    "wb = openpyxl.Workbook()\n",
    "ws = wb.active\n",
    "\n",
    "for linha in lista_dados:\n",
    "    ws.append(linha)\n",
    "\n",
    "wb.save(filename = 'Ponto e virgula.xlsx')"
   ]
  }
 ],
 "metadata": {
  "kernelspec": {
   "display_name": "base",
   "language": "python",
   "name": "python3"
  },
  "language_info": {
   "codemirror_mode": {
    "name": "ipython",
    "version": 3
   },
   "file_extension": ".py",
   "mimetype": "text/x-python",
   "name": "python",
   "nbconvert_exporter": "python",
   "pygments_lexer": "ipython3",
   "version": "3.10.9"
  },
  "orig_nbformat": 4
 },
 "nbformat": 4,
 "nbformat_minor": 2
}
