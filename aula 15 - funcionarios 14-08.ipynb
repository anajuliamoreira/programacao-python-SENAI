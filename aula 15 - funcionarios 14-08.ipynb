{
 "cells": [
  {
   "cell_type": "code",
   "execution_count": 1,
   "metadata": {},
   "outputs": [
    {
     "name": "stdout",
     "output_type": "stream",
     "text": [
      "Requirement already satisfied: PyPDF2 in c:\\python311\\lib\\site-packages (3.0.1)\n"
     ]
    },
    {
     "name": "stderr",
     "output_type": "stream",
     "text": [
      "\n",
      "[notice] A new release of pip available: 22.3 -> 23.2.1\n",
      "[notice] To update, run: python.exe -m pip install --upgrade pip\n"
     ]
    }
   ],
   "source": [
    "!pip install PyPDF2"
   ]
  },
  {
   "cell_type": "code",
   "execution_count": 2,
   "metadata": {},
   "outputs": [
    {
     "name": "stdout",
     "output_type": "stream",
     "text": [
      "Requirement already satisfied: openpyxl in c:\\python311\\lib\\site-packages (3.1.2)"
     ]
    },
    {
     "name": "stderr",
     "output_type": "stream",
     "text": [
      "\n",
      "[notice] A new release of pip available: 22.3 -> 23.2.1\n",
      "[notice] To update, run: python.exe -m pip install --upgrade pip\n"
     ]
    },
    {
     "name": "stdout",
     "output_type": "stream",
     "text": [
      "\n",
      "Requirement already satisfied: et-xmlfile in c:\\python311\\lib\\site-packages (from openpyxl) (1.1.0)\n"
     ]
    }
   ],
   "source": [
    "!pip install openpyxl"
   ]
  },
  {
   "cell_type": "code",
   "execution_count": 48,
   "metadata": {},
   "outputs": [
    {
     "name": "stdout",
     "output_type": "stream",
     "text": [
      "['NIF NOME  IDADE  UF (Origem)  ', 'sn10259  Jorge Moreira  45 SP ', 'sn74855  Brun a Nogueira  24 BA ', 'sn97849  Luiza Magalhães  41 MA ', 'sn97412 Clarivaldo Rêgo  74 SP ', 'sn79872  Jedai da Silva  19 SP ', 'sn27893  Edineia Jureia  35 PA ', 'sn76412  Florisfonso Melo Rêgo  52 AM ']\n",
      "NIF NOME,IDADE,UF (Origem),/sn10259,Jorge Moreira,45 SP /sn74855,Brun a Nogueira,24 BA /sn97849,Luiza Magalhães,41 MA /sn97412 Clarivaldo Rêgo,74 SP /sn79872,Jedai da Silva,19 SP /sn27893,Edineia Jureia,35 PA /sn76412,Florisfonso Melo Rêgo,52 AM \n"
     ]
    }
   ],
   "source": [
    "import PyPDF2 as pdf\n",
    "import openpyxl\n",
    "import os\n",
    "\n",
    "caminho = 'C:\\\\Users\\\\FIC\\\\Documents\\\\Ana Julia Moreira - Python\\\\Arquivos 2\\\\'\n",
    "arquivo = 'Funcionarios.pdf'\n",
    "\n",
    "pdf_file = open(caminho + arquivo,'rb')\n",
    "\n",
    "read_pdf = pdf.PdfReader(pdf_file)\n",
    "\n",
    "number_of_pages = len(read_pdf.pages)\n",
    "\n",
    "page = read_pdf.pages[0]\n",
    "\n",
    "page_content = page.extract_text()\n",
    "\n",
    "parsed = page_content.splitlines()\n",
    "\n",
    "parsed.remove(' ')\n",
    "\n",
    "print(parsed)\n",
    "\n",
    "texto = '/'.join(parsed)\n",
    "\n",
    "texto = texto.replace('  ',',')\n",
    "texto = texto.replace(',(','(')\n",
    "texto = texto.replace('Brun,a', 'Bruna')\n",
    "print(texto)\n",
    "\n",
    "parsed = texto.split('/')\n",
    "\n",
    "#print(parsed)\n",
    "\n",
    "lista_dados = []\n",
    "\n",
    "for i in range(0,len(parsed)):\n",
    "    lista_dados.append([parsed[i]])\n",
    "\n",
    "lista = []\n",
    "i = 0\n",
    "\n",
    "for x in lista_dados:\n",
    "    a = ','.join(lista_dados[i])\n",
    "    lista.append(a.split(','))\n",
    "    i += 1\n",
    "\n",
    "wb = openpyxl.Workbook()\n",
    "ws = wb.active\n",
    "\n",
    "for row in lista:\n",
    "    ws.append(row)\n",
    "\n",
    "wb.save(filename='Funcionarios.xlsx')"
   ]
  }
 ],
 "metadata": {
  "kernelspec": {
   "display_name": "Python 3",
   "language": "python",
   "name": "python3"
  },
  "language_info": {
   "codemirror_mode": {
    "name": "ipython",
    "version": 3
   },
   "file_extension": ".py",
   "mimetype": "text/x-python",
   "name": "python",
   "nbconvert_exporter": "python",
   "pygments_lexer": "ipython3",
   "version": "3.11.0"
  },
  "orig_nbformat": 4
 },
 "nbformat": 4,
 "nbformat_minor": 2
}
