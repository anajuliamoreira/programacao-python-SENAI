{
 "cells": [
  {
   "cell_type": "markdown",
   "metadata": {},
   "source": [
    "### Exercício 07\n",
    " Capturar uma região específica da tela."
   ]
  },
  {
   "cell_type": "code",
   "execution_count": 1,
   "metadata": {},
   "outputs": [
    {
     "name": "stdout",
     "output_type": "stream",
     "text": [
      "Requirement already satisfied: pillow in c:\\python311\\lib\\site-packages (10.0.0)\n"
     ]
    },
    {
     "name": "stderr",
     "output_type": "stream",
     "text": [
      "\n",
      "[notice] A new release of pip available: 22.3 -> 23.2.1\n",
      "[notice] To update, run: python.exe -m pip install --upgrade pip\n"
     ]
    }
   ],
   "source": [
    "!pip install pillow"
   ]
  },
  {
   "cell_type": "code",
   "execution_count": 2,
   "metadata": {},
   "outputs": [],
   "source": [
    "import pyautogui\n",
    "import time\n",
    "\n",
    "printScreen = pyautogui.screenshot()\n",
    "printScreen.save('teste.png')"
   ]
  },
  {
   "cell_type": "code",
   "execution_count": 3,
   "metadata": {},
   "outputs": [],
   "source": [
    "x, y, largura, altura = 100, 100, 400, 400\n",
    "\n",
    "printScreen2 = pyautogui.screenshot(region=(x, y, largura, altura))\n",
    "printScreen2.save('print_2.png')"
   ]
  },
  {
   "cell_type": "markdown",
   "metadata": {},
   "source": [
    "Exercício 09 – Crie um código para abrir o Bloco de notas e digite a frase\n",
    "Hello, World!"
   ]
  },
  {
   "cell_type": "code",
   "execution_count": 4,
   "metadata": {},
   "outputs": [],
   "source": [
    "import os #Gerenciar os arquivos no sistema operacional \n",
    "import pyautogui #Gerar a automação\n",
    "import time #Gerencias o tempo de execução\n",
    "\n",
    "#-----------------------------------------------------------\n",
    "\n",
    "#Abrir bloco de notas\n",
    "time.sleep(0.5)\n",
    "pyautogui.press('Win')\n",
    "time.sleep(0.5)\n",
    "pyautogui.write('Bloco de notas')\n",
    "pyautogui.press('enter')\n",
    "time.sleep(0.5)\n",
    "\n",
    "texto = 'Hello, World!'\n",
    "pyautogui.write(texto)\n",
    "\n",
    "time.sleep(1)\n",
    "pyautogui.hotkey('ctrl','s')\n",
    "time.sleep(1)\n",
    "pyautogui.write('teste.txt')\n",
    "pyautogui.press('enter')"
   ]
  },
  {
   "cell_type": "markdown",
   "metadata": {},
   "source": [
    "### Exercicio Extra 01\n",
    "\n",
    "Gerar um código para localizar a posição de uma imagem em uma pagina web"
   ]
  },
  {
   "cell_type": "code",
   "execution_count": 13,
   "metadata": {},
   "outputs": [],
   "source": [
    "import pyautogui # Gerar automação das tarefas\n",
    "import time #Gerenciar o tempo de execução\n",
    "\n",
    "#Pressionar as teclas WIN + R\n",
    "time.sleep(0.5)\n",
    "pyautogui.hotkey('win','r')\n",
    "\n",
    "pyautogui.typewrite('https://forms.gle/6T6Umx21BMqqsfHD8\\n')\n",
    "\n",
    "time.sleep(2)\n",
    "\n",
    "a, b = (pyautogui.locateCenterOnScreen('img\\\\nome.png'))\n",
    "\n",
    "time.sleep(0.5)\n",
    "pyautogui.click(x = a, y = b + 18)\n",
    "\n",
    "time.sleep(0.5)\n",
    "pyautogui.write('Ana Julia')\n",
    "\n",
    "time.sleep(0.5)\n",
    "pyautogui.press('tab')\n",
    "pyautogui.write('Moreira')\n",
    "\n",
    "time.sleep(0.5)\n",
    "pyautogui.press('tab')\n",
    "pyautogui.write('anajulia.msantos@gmail.com')\n",
    "\n",
    "time.sleep(0.5)\n",
    "pyautogui.press('tab')\n",
    "pyautogui.write('Rua dos Mecanteis - Vila Fazeonni')\n",
    "\n",
    "time.sleep(0.5)\n",
    "pyautogui.press('tab')\n",
    "pyautogui.write('11970707070')\n",
    "\n",
    "time.sleep(2)\n",
    "pyautogui.click(pyautogui.locateCenterOnScreen('img\\\\enviar.png'))"
   ]
  },
  {
   "cell_type": "code",
   "execution_count": null,
   "metadata": {},
   "outputs": [
    {
     "data": {
      "text/plain": [
       "Point(x=672, y=536)"
      ]
     },
     "execution_count": 21,
     "metadata": {},
     "output_type": "execute_result"
    }
   ],
   "source": [
    "pyautogui.position() #Linha para escrever o nome"
   ]
  }
 ],
 "metadata": {
  "kernelspec": {
   "display_name": "Python 3",
   "language": "python",
   "name": "python3"
  },
  "language_info": {
   "codemirror_mode": {
    "name": "ipython",
    "version": 3
   },
   "file_extension": ".py",
   "mimetype": "text/x-python",
   "name": "python",
   "nbconvert_exporter": "python",
   "pygments_lexer": "ipython3",
   "version": "3.11.0"
  },
  "orig_nbformat": 4
 },
 "nbformat": 4,
 "nbformat_minor": 2
}
