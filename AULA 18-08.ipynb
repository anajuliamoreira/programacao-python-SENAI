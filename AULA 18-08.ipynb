{
 "cells": [
  {
   "cell_type": "markdown",
   "metadata": {},
   "source": [
    "Exercício 06 - Escreva um programa Python que execute uma operação em uma lista\n",
    "e manipule uma exceção IndexError se o índice estiver fora do intervalo.\n",
    "\n",
    "exception IndexError:\n",
    "\n",
    "Gerado quando um subscrito de sequência está fora do intervalo. (Índices de fatia são\n",
    "silenciosamente truncados para cair no intervalo permitido; se um índice não for um\n",
    "número inteiro, TypeError é levantado.)"
   ]
  },
  {
   "cell_type": "code",
   "execution_count": 3,
   "metadata": {},
   "outputs": [
    {
     "name": "stdout",
     "output_type": "stream",
     "text": [
      "ERRO: Índice fora do range da lista\n"
     ]
    }
   ],
   "source": [
    "#-----------Criar função tente de índice\n",
    "\n",
    "def text_index(data, index):\n",
    "    try:\n",
    "        result = data[index]\n",
    "        return result\n",
    "    \n",
    "    except IndexError:\n",
    "        print('ERRO: Índice fora do range da lista')\n",
    "\n",
    "#-----------Teste da função\n",
    "\n",
    "numeros = [1,2,3,4,5,6,7,8,9,10]\n",
    "indice = int(input('Digite o índice para obter uma informação da lista'))\n",
    "\n",
    "text_index(numeros,indice)"
   ]
  },
  {
   "cell_type": "markdown",
   "metadata": {},
   "source": [
    "Exercício 09 - Escreva um programa Python que abra um arquivo e manipule uma\n",
    "exceção UnicodeDecodeError se houver um problema de codificação.\n",
    "\n",
    "exception UnicodeDecodeError:\n",
    "\n",
    "Gerado quando ocorre um erro relacionado ao Unicode durante a decodificação. É uma\n",
    "subclasse de UnicodeError."
   ]
  },
  {
   "cell_type": "code",
   "execution_count": 9,
   "metadata": {},
   "outputs": [
    {
     "name": "stdout",
     "output_type": "stream",
     "text": [
      "File contents\n",
      "Tipo,Valor,Forma de Pagamento\n",
      "Mercado,85,Cartão\n",
      "Remédio,48,Dinheiro\n",
      "Celular,149,Cartão\n",
      "Lanches,35,Cheque\n",
      "Livros,65,Cheque\n",
      "Passagem,430,Cartão\n",
      "Aluguel,650,Dinheiro\n",
      "Teatro,50,Cartão\n",
      "Roupas,220,Cartão\n",
      "Nova Linha 1,220,Cartão\n",
      "Petshop,100,Cartão\n"
     ]
    }
   ],
   "source": [
    "def open_file(fileName):\n",
    "    encoding = input('Insira o encoding do arquivo(ASCII, UTF-16, UTF-8 ou ANSI):')\n",
    "\n",
    "    try:\n",
    "        with open(fileName, 'r', encoding=encoding) as file:\n",
    "            contents = file.read()\n",
    "            print('File contents')\n",
    "            print(contents)\n",
    "    except UnicodeDecodeError:\n",
    "        print('ERRO: Ocorreu um erro no encoding, selecione um tipo correto ')\n",
    "\n",
    "\n",
    "arquivo = input('Digite o caminho completo do arquivo: ')\n",
    "open_file(arquivo)"
   ]
  }
 ],
 "metadata": {
  "kernelspec": {
   "display_name": "Python 3",
   "language": "python",
   "name": "python3"
  },
  "language_info": {
   "codemirror_mode": {
    "name": "ipython",
    "version": 3
   },
   "file_extension": ".py",
   "mimetype": "text/x-python",
   "name": "python",
   "nbconvert_exporter": "python",
   "pygments_lexer": "ipython3",
   "version": "3.11.0"
  },
  "orig_nbformat": 4
 },
 "nbformat": 4,
 "nbformat_minor": 2
}
