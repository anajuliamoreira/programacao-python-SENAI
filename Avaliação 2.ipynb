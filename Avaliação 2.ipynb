{
 "cells": [
  {
   "cell_type": "markdown",
   "id": "813c3c50",
   "metadata": {},
   "source": [
    "Questão 01 -  Escreva um programa que exiba os números de 1 a 10 em ordem crescente."
   ]
  },
  {
   "cell_type": "code",
   "execution_count": null,
   "id": "1a3ca772",
   "metadata": {},
   "outputs": [],
   "source": [
    "lista = range (1, 11)\n",
    "\n",
    "numeros = []\n",
    "\n",
    "for x in lista:\n",
    "    numeros.append(x)\n",
    "    \n",
    "print(numeros)"
   ]
  },
  {
   "cell_type": "markdown",
   "id": "634cefa5",
   "metadata": {},
   "source": [
    "Questão 02 -  Escreva um programa que calcule a média de uma lista de números. A lista deve conter pelo menos 5 números."
   ]
  },
  {
   "cell_type": "code",
   "execution_count": null,
   "id": "5a7a0328",
   "metadata": {},
   "outputs": [],
   "source": [
    "notas = []\n",
    "\n",
    "i = 1\n",
    "\n",
    "while i <= 5:\n",
    "    entrada = input('Digite a nota: ')\n",
    "    notas.append(float(entrada))\n",
    "    i = i + 1\n",
    "\n",
    "soma = 0\n",
    "\n",
    "for n in notas:\n",
    "    soma = n + soma\n",
    "    \n",
    "elementos = len(notas)\n",
    "media = round(soma / elementos,1)\n",
    "\n",
    "print(f'A média das notas é: {media}')"
   ]
  },
  {
   "cell_type": "markdown",
   "id": "5cf283de",
   "metadata": {},
   "source": [
    "Questão 03 - Escreva um programa que gere a sequência de Fibonacci até o décimo termo. A sequência de Fibonacci é formada pela soma dos dois termos anteriores, começando com 0 e 1. A sequência fica assim: 0, 1, 1, 2, 3, 5, 8, 13, 21, 34..."
   ]
  },
  {
   "cell_type": "code",
   "execution_count": null,
   "id": "4cb3cb77",
   "metadata": {},
   "outputs": [],
   "source": [
    "quantidade = 10\n",
    "\n",
    "serie = [0] \n",
    "\n",
    "i = 0\n",
    "\n",
    "while i <= quantidade:\n",
    "    if len(serie) == 10:\n",
    "        break\n",
    "        \n",
    "    if serie[0] == 0 and i == 0:\n",
    "        serie.append(1)\n",
    "        \n",
    "    else:\n",
    "        a = serie[i] + serie[i-1]\n",
    "        serie.append(a)\n",
    "        \n",
    "    i = i+1\n",
    "    \n",
    "print(serie)    "
   ]
  },
  {
   "cell_type": "markdown",
   "id": "7bbd413e",
   "metadata": {},
   "source": [
    "Questão 04 -  Escreva um programa que leia um número inteiro positivo n do usuário e exiba a soma de todos os números de 1 até n."
   ]
  },
  {
   "cell_type": "code",
   "execution_count": null,
   "id": "0288d5ab",
   "metadata": {},
   "outputs": [],
   "source": [
    "num = int(input('Digite um numero inteiro: '))\n",
    "\n",
    "i = 1\n",
    "soma = 0\n",
    "\n",
    "while i <= num:\n",
    "    soma = soma + i\n",
    "    \n",
    "    i = i+1\n",
    "    \n",
    "print(soma)"
   ]
  },
  {
   "cell_type": "markdown",
   "id": "8e59c666",
   "metadata": {},
   "source": [
    "Questão 05 -  Escreva um programa que receba uma lista de números do usuário e exiba apenas os números pares presentes na lista e sua respectiva quantidade.\n"
   ]
  },
  {
   "cell_type": "code",
   "execution_count": null,
   "id": "fb697551",
   "metadata": {},
   "outputs": [],
   "source": [
    "numeros = []\n",
    "\n",
    "i = 1\n",
    "\n",
    "while i <= 5:\n",
    "    num = int(input('Digite o numero: '))\n",
    "    numeros.append(num)\n",
    "    i = i + 1\n",
    "    \n",
    "par = 0\n",
    "impar = 0\n",
    "\n",
    "for x in numeros:\n",
    "    if x % 2 == 0:\n",
    "        par = par + 1\n",
    "\n",
    "print(f'Na lista {numeros}')\n",
    "print(f'Foram localizados {par} numeros pares.')"
   ]
  },
  {
   "cell_type": "code",
   "execution_count": 8,
   "id": "4f452faf",
   "metadata": {},
   "outputs": [
    {
     "name": "stdout",
     "output_type": "stream",
     "text": [
      "[2, 4, 6, 8]\n",
      "Existem 4 números pares nesta lista.\n"
     ]
    }
   ],
   "source": [
    "#Resolução do professor \n",
    "\n",
    "lista = range(0,10)\n",
    "numeros = []\n",
    "\n",
    "qtde = 0\n",
    "\n",
    "for x in lista:\n",
    "    \n",
    "    if x % 2 == 0 and x != 0:\n",
    "        numeros.append(x)\n",
    "        qtde += 1\n",
    "    \n",
    "print(numeros)\n",
    "print(f'Existem {qtde} números pares nesta lista.')"
   ]
  },
  {
   "cell_type": "markdown",
   "id": "4ae0d2b6",
   "metadata": {},
   "source": [
    "Questão 06 -  Escreva um programa que leia uma lista de números do usuário e determine a soma, média, o maior valor e o menor valor da lista."
   ]
  },
  {
   "cell_type": "code",
   "execution_count": null,
   "id": "e8b58799",
   "metadata": {},
   "outputs": [],
   "source": [
    "lista = []\n",
    "entrada = input('Digite a valor. (Para sair digite S)')\n",
    "\n",
    "while entrada.lower() != 's': \n",
    "    \n",
    "    lista.append(float(entrada))\n",
    "    entrada = input('Digite a valor. (Para sair digite S)')\n",
    "    \n",
    "soma = sum(lista)\n",
    "media = soma / len(lista)\n",
    "maximo = max(lista)\n",
    "minimo = min(lista)\n",
    "\n",
    "print(f'A soma é {soma}, a média é {media},\\ o maior valor é {maximo} e o menor é {minimo} ')"
   ]
  },
  {
   "cell_type": "markdown",
   "id": "0e8cf682",
   "metadata": {},
   "source": [
    "Questão 07 -  Escreva um programa que leia um número inteiro positivo n do usuário e exiba a tabuada de multiplicação desse número, do 1 ao 10."
   ]
  },
  {
   "cell_type": "code",
   "execution_count": null,
   "id": "22b58210",
   "metadata": {},
   "outputs": [],
   "source": [
    "numero = int(input(\"Digite um numero de 1 a 10: \"))\n",
    "\n",
    "if numero >= 1 and numero <= 10:\n",
    "\n",
    "    print(f'Tabuada do {numero}:')\n",
    "\n",
    "    for x in range(1, 11):\n",
    "\n",
    "        print(f\"{numero} X {x} = {numero * x}\")\n",
    "\n",
    "else:\n",
    "    print('Este numero é inválido. Digite um numero entre 1 e 10. ')"
   ]
  },
  {
   "cell_type": "markdown",
   "id": "73a2df4d",
   "metadata": {},
   "source": [
    "Questão 08 -  Escreva um programa que leia uma lista de números do usuário e crie duas novas listas: uma contendo os números positivos e outra contendo os números negativos."
   ]
  },
  {
   "cell_type": "code",
   "execution_count": 5,
   "id": "f7f5c03b",
   "metadata": {},
   "outputs": [
    {
     "name": "stdout",
     "output_type": "stream",
     "text": [
      "Digite um numero: -1\n",
      "Digite um numero: 52\n",
      "Digite um numero: 9\n",
      "Digite um numero: -8\n",
      "Digite um numero: 22\n",
      "Digite um numero: 36\n"
     ]
    },
    {
     "ename": "NameError",
     "evalue": "name 'x' is not defined",
     "output_type": "error",
     "traceback": [
      "\u001b[1;31m---------------------------------------------------------------------------\u001b[0m",
      "\u001b[1;31mNameError\u001b[0m                                 Traceback (most recent call last)",
      "Cell \u001b[1;32mIn[5], line 14\u001b[0m\n\u001b[0;32m     11\u001b[0m     num\u001b[38;5;241m.\u001b[39mappend(numeros)\n\u001b[0;32m     12\u001b[0m     i \u001b[38;5;241m=\u001b[39m i\u001b[38;5;241m+\u001b[39m\u001b[38;5;241m1\u001b[39m\n\u001b[1;32m---> 14\u001b[0m \u001b[38;5;28;01mif\u001b[39;00m \u001b[43mx\u001b[49m \u001b[38;5;129;01min\u001b[39;00m num:\n\u001b[0;32m     15\u001b[0m     x \u001b[38;5;241m>\u001b[39m \u001b[38;5;241m0\u001b[39m\n\u001b[0;32m     16\u001b[0m     positivos\u001b[38;5;241m.\u001b[39mappend(x)\n",
      "\u001b[1;31mNameError\u001b[0m: name 'x' is not defined"
     ]
    }
   ],
   "source": [
    "num = [] \n",
    "\n",
    "positivos = []\n",
    "\n",
    "negativos = []\n",
    "\n",
    "i = 1\n",
    "\n",
    "while i <= 6:\n",
    "    numeros = int(input('Digite um numero: '))\n",
    "    num.append(numeros)\n",
    "    i = i+1\n",
    "    \n",
    "if x in num:\n",
    "    x > 0\n",
    "    positivos.append(x)\n",
    "else:\n",
    "    negativos.append(x)"
   ]
  },
  {
   "cell_type": "markdown",
   "id": "a1a2ca13",
   "metadata": {},
   "source": [
    "Questão 09 - Escreva um programa que leia uma lista de números do usuário e crie uma nova lista com os números pares multiplicados por 2 e os números ímpares multiplicados por 3."
   ]
  },
  {
   "cell_type": "code",
   "execution_count": null,
   "id": "9f122321",
   "metadata": {},
   "outputs": [],
   "source": []
  },
  {
   "cell_type": "markdown",
   "id": "5606075a",
   "metadata": {},
   "source": [
    "Questão 10\n",
    "\n",
    "A) Escreva um programa que leia uma lista de números do usuário e crie uma nova lista contendo apenas os números únicos, ou seja, sem repetições. \n",
    "\n",
    "B) Escreva um programa que leia uma lista de números do usuário e determine se essa lista é uma sequência crescente, decrescente ou se não está ordenada.\n"
   ]
  },
  {
   "cell_type": "code",
   "execution_count": null,
   "id": "7850a002",
   "metadata": {},
   "outputs": [],
   "source": []
  }
 ],
 "metadata": {
  "kernelspec": {
   "display_name": "Python 3 (ipykernel)",
   "language": "python",
   "name": "python3"
  },
  "language_info": {
   "codemirror_mode": {
    "name": "ipython",
    "version": 3
   },
   "file_extension": ".py",
   "mimetype": "text/x-python",
   "name": "python",
   "nbconvert_exporter": "python",
   "pygments_lexer": "ipython3",
   "version": "3.10.9"
  }
 },
 "nbformat": 4,
 "nbformat_minor": 5
}
