{
 "cells": [
  {
   "cell_type": "markdown",
   "id": "a0912cb9",
   "metadata": {},
   "source": [
    "Exercício 01 – Crie uma variável chamada \"idade\" e atribua um valor inteiro a ela.\n",
    "Verifique se a idade é maior ou igual a 18 e imprima \"Maior de idade\" ou \"Menor de\n",
    "idade\" de acordo com a condição."
   ]
  },
  {
   "cell_type": "code",
   "execution_count": null,
   "id": "a71925de",
   "metadata": {},
   "outputs": [],
   "source": [
    "idade = input('Informe sua idade: ')\n",
    "\n",
    "idade = int(idade)\n",
    "\n",
    "if idade < 18:\n",
    "\n",
    "    print('Menor de idade')\n",
    "else:\n",
    "    print('Maior de idade')"
   ]
  },
  {
   "cell_type": "markdown",
   "id": "249f341d",
   "metadata": {},
   "source": [
    "Exercício 02 - Crie uma variável chamada \"número\" e atribua um valor inteiro a ela.\n",
    "Verifique se o número é positivo, negativo ou zero e imprima a mensagem\n",
    "correspondente."
   ]
  },
  {
   "cell_type": "code",
   "execution_count": null,
   "id": "0f37b551",
   "metadata": {},
   "outputs": [],
   "source": [
    "numero = input('Digite um numero inteiro: ')\n",
    "\n",
    "numero = int(numero)\n",
    "\n",
    "if numero < 0:\n",
    "    print('Negativo')\n",
    "elif numero > 0:\n",
    "    print('Positivo')\n",
    "else:\n",
    "    print('Nulo')"
   ]
  },
  {
   "cell_type": "markdown",
   "id": "764eaf3d",
   "metadata": {},
   "source": [
    "Exercício 03 - Crie duas variáveis, \"nota1\" e \"nota2\", e atribua valores numéricos a elas.\n",
    "Verifique se a média das notas é maior ou igual a 7 e imprima \"Aprovado\" ou\n",
    "\"Reprovado\" de acordo com a condição."
   ]
  },
  {
   "cell_type": "code",
   "execution_count": null,
   "id": "764b7555",
   "metadata": {},
   "outputs": [],
   "source": [
    "nota_1 = input('Digite a nota 1: ')\n",
    "nota_2 = input('Digite a nota 2: ')\n",
    "\n",
    "nota_1 = float(nota_1)\n",
    "nota_2 = float(nota_2)\n",
    "\n",
    "media = (nota_1 + nota_2) / 2\n",
    "\n",
    "if media < 7:\n",
    "    print(f'Reprovado, sua média final é {media}, triste')\n",
    "else:\n",
    "    print(f'Aprovado, sua média final é {media}, Parabéns!!')"
   ]
  },
  {
   "cell_type": "markdown",
   "id": "48aa374f",
   "metadata": {},
   "source": [
    "Exercício 04 - Crie uma variável chamada \"idade\" e atribua um valor inteiro a ela.\n",
    "Verifique se a idade está dentro do intervalo de 18 a 30 (inclusive) e imprima a\n",
    "mensagem \"Idade válida\" ou \"Idade inválida\" de acordo com a condição."
   ]
  },
  {
   "cell_type": "code",
   "execution_count": null,
   "id": "f78630c4",
   "metadata": {},
   "outputs": [],
   "source": [
    "idade = int(input('Informe a idade: '))\n",
    "\n",
    "\n",
    "if idade >= 18 and idade <= 30:\n",
    "    print('Idade Válida')\n",
    "else:\n",
    "    print('Idade Inválida')"
   ]
  },
  {
   "cell_type": "markdown",
   "id": "d4a5a1bd",
   "metadata": {},
   "source": [
    "Exercício 05 - Crie uma variável chamada \"numero\" e atribua um valor inteiro a ela.\n",
    "Verifique se o número é par ou ímpar e imprima a mensagem correspondente."
   ]
  },
  {
   "cell_type": "code",
   "execution_count": null,
   "id": "1ce14080",
   "metadata": {},
   "outputs": [],
   "source": [
    "numero = int(input('Digite um numero: '))\n",
    "\n",
    "if numero % 2 == 0:\n",
    "    print('Par')\n",
    "else:\n",
    "    print('Impar')"
   ]
  },
  {
   "cell_type": "markdown",
   "id": "02285a2b",
   "metadata": {},
   "source": [
    "Exercício 06 - Crie uma variável chamada \"horario\" e atribua um valor inteiro\n",
    "representando a hora do dia (em formato 24 horas). Verifique se o horário está dentro\n",
    "do período da manhã (das 6h às 12h), da tarde (das 12h às 18h) ou da noite (das 18h\n",
    "às 23h) e imprima a mensagem correspondente."
   ]
  },
  {
   "cell_type": "code",
   "execution_count": null,
   "id": "a3ca3f96",
   "metadata": {},
   "outputs": [],
   "source": [
    "horario = int(input('Informe um horário: '))\n",
    "\n",
    "if horario >= 6 and horario < 12:\n",
    "    print('Periodo da manhã')\n",
    "\n",
    "elif horario >= 13 and horario < 18:\n",
    "    print('Periodo da tarde')\n",
    "    \n",
    "else:\n",
    "    print('Periodo da noite')"
   ]
  },
  {
   "cell_type": "markdown",
   "id": "6891cb46",
   "metadata": {},
   "source": [
    "Exercício 07 - Crie uma variável chamada \"peso\" e atribua um valor numérico a ela.\n",
    "Verifique se o peso está dentro do intervalo de 50 a 100 (inclusive) e imprima a\n",
    "mensagem \"Peso válido\" ou \"Peso inválido\" de acordo com a condição."
   ]
  },
  {
   "cell_type": "code",
   "execution_count": null,
   "id": "9f2b4107",
   "metadata": {},
   "outputs": [],
   "source": [
    "peso = float(input('Informe o peso: '))\n",
    "\n",
    "if peso >= 50 and peso <= 100:\n",
    "    print('Peso válido')\n",
    "else:\n",
    "    print('Peso inválido')"
   ]
  },
  {
   "cell_type": "markdown",
   "id": "a9d7ab58",
   "metadata": {},
   "source": [
    "Exercício 08 - Crie uma variável chamada \"numero\" e atribua um valor inteiro a ela.\n",
    "Verifique se o número é múltiplo de 3 e de 5 ao mesmo tempo e imprima a mensagem\n",
    "correspondente."
   ]
  },
  {
   "cell_type": "code",
   "execution_count": null,
   "id": "364045f5",
   "metadata": {},
   "outputs": [],
   "source": [
    "numero = int(input('Informe um numero: '))\n",
    "\n",
    "if numero % 5 == 0 and numero % 3 == 0:\n",
    "    print(f'O numero {numero} é multiplo de 3 e 5')\n",
    "else:\n",
    "    print(f'O numero {numero} NÃO é multiplo de 3 e 5')"
   ]
  },
  {
   "cell_type": "markdown",
   "id": "6190c056",
   "metadata": {},
   "source": [
    "Exercício 09 - Crie uma variável chamada \"ano\" e atribua um valor inteiro\n",
    "representando um ano. Verifique se o ano é bissexto (divisível por 4, mas não por 100,\n",
    "exceto se for divisível por 400) e imprima a mensagem correspondente."
   ]
  },
  {
   "cell_type": "code",
   "execution_count": null,
   "id": "5626bcc8",
   "metadata": {},
   "outputs": [],
   "source": [
    "ano = int(input('Digite o ano: '))\n",
    "\n",
    "if (ano % 4 == 0 and ano % 100 != 0) or ano % 400 == 0:\n",
    "    \n",
    "    # Usar or se for esse ou aquele\n",
    "    \n",
    "    print('O ano é bissexto')\n",
    "else:\n",
    "    print('O ano não é bissexto')"
   ]
  },
  {
   "cell_type": "markdown",
   "id": "4cbca6ea",
   "metadata": {},
   "source": [
    "Exercício 10 - Crie uma variável chamada \"salario\" e atribua um valor numérico a ela.\n",
    "Verifique se o salário é maior do que 1000 e menor do que 2000 ao mesmo tempo e\n",
    "imprima a mensagem correspondente."
   ]
  },
  {
   "cell_type": "code",
   "execution_count": null,
   "id": "63b34563",
   "metadata": {},
   "outputs": [],
   "source": [
    "salario = int(input('Informe o salario: '))\n",
    "\n",
    "if salario > 1000 and salario < 2000:\n",
    "    print('Corresponde')\n",
    "else:\n",
    "    print('Não corresponde')"
   ]
  },
  {
   "cell_type": "markdown",
   "id": "379818a3",
   "metadata": {},
   "source": [
    "Exercício 11 - Faça um Programa que peça dois números e imprima o maior deles."
   ]
  },
  {
   "cell_type": "code",
   "execution_count": null,
   "id": "24be7bde",
   "metadata": {},
   "outputs": [],
   "source": [
    "numero1 = int(input('Digite o primeiro numero: '))\n",
    "numero2 = int(input('Digite o segundo numero: '))\n",
    "\n",
    "if numero1 > numero2:\n",
    "        print(f'O numero {numero1} é o maior')\n",
    "else:\n",
    "        print(f'O numero {numero2} é o maior')"
   ]
  },
  {
   "cell_type": "markdown",
   "id": "512d72c1",
   "metadata": {},
   "source": [
    "Exercício 12 - Faça um Programa que peça um valor e mostre na tela se o valor é\n",
    "positivo ou negativo."
   ]
  },
  {
   "cell_type": "code",
   "execution_count": null,
   "id": "23ad78db",
   "metadata": {},
   "outputs": [],
   "source": [
    "valor = int(input('Informe um valor: '))\n",
    "\n",
    "if valor > 0:\n",
    "    print('Positivo')\n",
    "else:\n",
    "    print('Negativo')"
   ]
  },
  {
   "cell_type": "markdown",
   "id": "29724494",
   "metadata": {},
   "source": [
    "Exercício 13 - Faça um Programa que verifique se uma letra digitada é \"F\" ou \"M\".\n",
    "Conforme a letra escrever: F - Feminino, M - Masculino, Sexo Inválido."
   ]
  },
  {
   "cell_type": "code",
   "execution_count": null,
   "id": "40245cd7",
   "metadata": {},
   "outputs": [],
   "source": [
    "letra = input('Gênero: ')\n",
    "\n",
    "if letra == 'f':\n",
    "    print('Feminino')\n",
    "elif letra == 'm':\n",
    "    print('Masculino')\n",
    "else:\n",
    "    print('Gênero invalido')"
   ]
  },
  {
   "cell_type": "markdown",
   "id": "6991118f",
   "metadata": {},
   "source": [
    "Exercício 14 - Faça um Programa que verifique se uma letra digitada é vogal ou\n",
    "consoante."
   ]
  },
  {
   "cell_type": "code",
   "execution_count": 3,
   "id": "1f0c556a",
   "metadata": {},
   "outputs": [
    {
     "name": "stdout",
     "output_type": "stream",
     "text": [
      "Informe uma letra: A\n",
      "Vogal\n"
     ]
    }
   ],
   "source": [
    "letra = input('Informe uma letra: ')\n",
    "\n",
    "letra = letra.lower()\n",
    "\n",
    "# .lower() para converter letra maiuscula em minuscula na impressão\n",
    "\n",
    "if letra == \"a\" or letra == \"e\" or letra == \"i\" or letra == \"o\" or letra == \"u\":\n",
    "    print('Vogal')\n",
    "else:\n",
    "    print('Consoante')"
   ]
  },
  {
   "cell_type": "markdown",
   "id": "cd7cb13f",
   "metadata": {},
   "source": [
    "Exercício 15 - Faça um programa para a leitura de duas notas parciais de um aluno. O\n",
    "programa deve calcular a média alcançada por aluno e apresentar:\n",
    "\n",
    "• A mensagem \"Aprovado\", se a média alcançada for maior ou igual a sete;\n",
    "\n",
    "• A mensagem \"Reprovado\", se a média for menor do que sete;\n",
    "\n",
    "• A mensagem \"Aprovado com Distinção\", se a média for igual a dez."
   ]
  },
  {
   "cell_type": "code",
   "execution_count": 13,
   "id": "c746c1a9",
   "metadata": {},
   "outputs": [
    {
     "name": "stdout",
     "output_type": "stream",
     "text": [
      "Primeira nota: 10\n",
      "Segunda nota: 10\n",
      "Parabéns!! Sua média foi 10.0, você foi APROVADO COM DISTINÇÃO\n"
     ]
    }
   ],
   "source": [
    "nota1 = float(input('Primeira nota: '))\n",
    "nota2 = float(input('Segunda nota: '))\n",
    "\n",
    "media = (nota1 + nota2) / 2\n",
    "\n",
    "if media >= 7 and media < 10:\n",
    "    print(f'Sua média foi {media}, você foi APROVADO')\n",
    "elif media == 10:\n",
    "    print(f'Parabéns!! Sua média foi {media}, você foi APROVADO COM DISTINÇÃO')\n",
    "else: \n",
    "    print(f'Sua média foi {media}, você foi REPROVADO')"
   ]
  },
  {
   "cell_type": "markdown",
   "id": "374d734a",
   "metadata": {},
   "source": [
    "Exercício 16 - Faça um Programa que leia três números e mostre o maior deles."
   ]
  },
  {
   "cell_type": "code",
   "execution_count": null,
   "id": "be21bc83",
   "metadata": {},
   "outputs": [],
   "source": [
    "primeiro = int(input('Digite o primeiro numero: '))\n",
    "segundo = int(input('Digite o segundo numero: '))\n",
    "terceiro = int(input('Digite o terceiro numero: '))\n",
    "\n",
    "maior = primeiro\n",
    "\n",
    "if segundo > maior:\n",
    "    maior = segundo\n",
    "if terceiro > maior:\n",
    "    maior = terceiro\n",
    "    \n",
    "print('O numero Maior é ', maior)"
   ]
  }
 ],
 "metadata": {
  "kernelspec": {
   "display_name": "Python 3 (ipykernel)",
   "language": "python",
   "name": "python3"
  },
  "language_info": {
   "codemirror_mode": {
    "name": "ipython",
    "version": 3
   },
   "file_extension": ".py",
   "mimetype": "text/x-python",
   "name": "python",
   "nbconvert_exporter": "python",
   "pygments_lexer": "ipython3",
   "version": "3.10.9"
  }
 },
 "nbformat": 4,
 "nbformat_minor": 5
}
