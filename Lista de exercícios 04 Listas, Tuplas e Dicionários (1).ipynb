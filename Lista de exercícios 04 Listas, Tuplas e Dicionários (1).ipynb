{
 "cells": [
  {
   "cell_type": "markdown",
   "id": "ab60821d",
   "metadata": {},
   "source": [
    "Exercício 01 - Crie uma lista com nomes de 4 times de futebol.\n",
    "\n",
    "a) Corinthians\n",
    "\n",
    "b) Flamengo\n",
    "\n",
    "c) Santos\n",
    "\n",
    "d) Água Santa\n",
    "\n",
    "e) Acesse o time que está na 3a posição.\n",
    "\n",
    "f) Crie uma lista com duas listas de 3 times de futebol, cada uma de uma\n",
    "divisão diferente."
   ]
  },
  {
   "cell_type": "code",
   "execution_count": 1,
   "id": "c0ce8017",
   "metadata": {},
   "outputs": [
    {
     "data": {
      "text/plain": [
       "'Santos'"
      ]
     },
     "execution_count": 1,
     "metadata": {},
     "output_type": "execute_result"
    }
   ],
   "source": [
    "times = ['Corinthians','Flamengo','Santos','Água Santa']\n",
    "\n",
    "times[2]\n",
    "\n"
   ]
  },
  {
   "cell_type": "code",
   "execution_count": 2,
   "id": "b7a9ae01",
   "metadata": {},
   "outputs": [
    {
     "data": {
      "text/plain": [
       "'E'"
      ]
     },
     "execution_count": 2,
     "metadata": {},
     "output_type": "execute_result"
    }
   ],
   "source": [
    "# f) Crie uma lista com duas listas de 3 times de futebol, cada uma de uma divisão diferente.\n",
    "\n",
    "divisoes = [['A','B','C','D'],['E','F','G','H']]\n",
    "divisoes[1][0]"
   ]
  },
  {
   "cell_type": "markdown",
   "id": "a6e69187",
   "metadata": {},
   "source": [
    "Exercício 02 - Crie uma lista com 3 diferentes moedas. Acrescente mais 2\n",
    "outras moedas à essa mesma lista."
   ]
  },
  {
   "cell_type": "code",
   "execution_count": 3,
   "id": "7f44d709",
   "metadata": {},
   "outputs": [
    {
     "data": {
      "text/plain": [
       "['dolar', 'real', 'euro', 'libra', 'iene']"
      ]
     },
     "execution_count": 3,
     "metadata": {},
     "output_type": "execute_result"
    }
   ],
   "source": [
    "moedas = ['dolar','real','euro']\n",
    "\n",
    "moedas.append('libra')\n",
    "moedas.append('iene')\n",
    "\n",
    "moedas"
   ]
  },
  {
   "cell_type": "markdown",
   "id": "290d5457",
   "metadata": {},
   "source": [
    "Exercício 03 - Crie uma string com a lista do exercício anterior."
   ]
  },
  {
   "cell_type": "code",
   "execution_count": 4,
   "id": "683f7a73",
   "metadata": {},
   "outputs": [
    {
     "data": {
      "text/plain": [
       "'dolar,real,euro'"
      ]
     },
     "execution_count": 4,
     "metadata": {},
     "output_type": "execute_result"
    }
   ],
   "source": [
    "moedas = ['dolar','real','euro']\n",
    "\n",
    "moedas = ','.join(moedas)\n",
    "\n",
    "moedas"
   ]
  },
  {
   "cell_type": "markdown",
   "id": "ebe44af6",
   "metadata": {},
   "source": [
    "Exercício 04 - Agora utilize a string do exercício 3 para recriar uma lista."
   ]
  },
  {
   "cell_type": "code",
   "execution_count": 5,
   "id": "89f2446d",
   "metadata": {},
   "outputs": [
    {
     "data": {
      "text/plain": [
       "['dolar', 'real', 'euro']"
      ]
     },
     "execution_count": 5,
     "metadata": {},
     "output_type": "execute_result"
    }
   ],
   "source": [
    "#Converter uma string em uma lista \n",
    "\n",
    "#lista = string.split('separador')\n",
    "\n",
    "moedas = moedas.split(',')\n",
    "\n",
    "moedas"
   ]
  },
  {
   "cell_type": "markdown",
   "id": "4de04f9b",
   "metadata": {},
   "source": [
    "Exercício 05 - Crie um dicionário chamado cardápio em que as chaves são os\n",
    "dias da semana e os respectivos valores sejam os pratos do dia."
   ]
  },
  {
   "cell_type": "code",
   "execution_count": null,
   "id": "d94063ac",
   "metadata": {},
   "outputs": [],
   "source": []
  }
 ],
 "metadata": {
  "kernelspec": {
   "display_name": "Python 3 (ipykernel)",
   "language": "python",
   "name": "python3"
  },
  "language_info": {
   "codemirror_mode": {
    "name": "ipython",
    "version": 3
   },
   "file_extension": ".py",
   "mimetype": "text/x-python",
   "name": "python",
   "nbconvert_exporter": "python",
   "pygments_lexer": "ipython3",
   "version": "3.10.9"
  }
 },
 "nbformat": 4,
 "nbformat_minor": 5
}
