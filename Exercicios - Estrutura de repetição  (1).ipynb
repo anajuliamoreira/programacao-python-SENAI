{
 "cells": [
  {
   "cell_type": "markdown",
   "id": "bc30f2f4",
   "metadata": {},
   "source": [
    "Exercício 14 - Faça um Programa que verifique se uma letra digitada é vogal ou\n",
    "consoante."
   ]
  },
  {
   "cell_type": "code",
   "execution_count": 1,
   "id": "95accacc",
   "metadata": {},
   "outputs": [
    {
     "name": "stdout",
     "output_type": "stream",
     "text": [
      "Digite uma letra: a\n",
      "É uma vogal\n"
     ]
    },
    {
     "ename": "SystemExit",
     "evalue": "",
     "output_type": "error",
     "traceback": [
      "An exception has occurred, use %tb to see the full traceback.\n",
      "\u001b[1;31mSystemExit\u001b[0m\n"
     ]
    },
    {
     "name": "stderr",
     "output_type": "stream",
     "text": [
      "C:\\Users\\FIC\\anaconda3\\lib\\site-packages\\IPython\\core\\interactiveshell.py:3468: UserWarning: To exit: use 'exit', 'quit', or Ctrl-D.\n",
      "  warn(\"To exit: use 'exit', 'quit', or Ctrl-D.\", stacklevel=1)\n"
     ]
    }
   ],
   "source": [
    "import sys\n",
    "\n",
    "vogais = ['a', 'e', 'i', 'o', 'u']\n",
    "\n",
    "letra_user = input('Digite uma letra: ')\n",
    "\n",
    "for letra in vogais:\n",
    "    if letra_user == letra:\n",
    "        print('É uma vogal')\n",
    "        sys.exit() #interrompe o código\n",
    "        \n",
    "print('É uma consoante')"
   ]
  },
  {
   "cell_type": "markdown",
   "id": "8f9cd41d",
   "metadata": {},
   "source": [
    "Exercício 06 - Faça um programa que imprima na tela os números de 1 a 20, um abaixo\n",
    "do outro. Depois modifique o programa para que ele mostre os números um ao lado do\n",
    "outro."
   ]
  },
  {
   "cell_type": "code",
   "execution_count": 2,
   "id": "6f8f9991",
   "metadata": {},
   "outputs": [
    {
     "name": "stdout",
     "output_type": "stream",
     "text": [
      "1\n",
      "2\n",
      "3\n",
      "4\n",
      "5\n",
      "6\n",
      "7\n",
      "8\n",
      "9\n",
      "10\n",
      "11\n",
      "12\n",
      "13\n",
      "14\n",
      "15\n",
      "16\n",
      "17\n",
      "18\n",
      "19\n",
      "20\n"
     ]
    }
   ],
   "source": [
    "numeros = [1,2,3,4,5,6,7,8,9,10,11,12,13,14,15,16,17,18,19,20]\n",
    "\n",
    "for x in numeros:\n",
    "    print(x)"
   ]
  },
  {
   "cell_type": "code",
   "execution_count": 3,
   "id": "69ac2515",
   "metadata": {},
   "outputs": [
    {
     "name": "stdout",
     "output_type": "stream",
     "text": [
      "1\n",
      "2\n",
      "3\n",
      "4\n",
      "5\n",
      "6\n",
      "7\n",
      "8\n",
      "9\n",
      "10\n",
      "11\n",
      "12\n",
      "13\n",
      "14\n",
      "15\n",
      "16\n",
      "17\n",
      "18\n",
      "19\n",
      "20\n"
     ]
    }
   ],
   "source": [
    "lista = range(1, 21) #Range apenas para numeros\n",
    "\n",
    "for x in lista:\n",
    "    print(x)"
   ]
  },
  {
   "cell_type": "code",
   "execution_count": 4,
   "id": "e19a1930",
   "metadata": {},
   "outputs": [
    {
     "name": "stdout",
     "output_type": "stream",
     "text": [
      "Foram adicionados 20 elementos á lista\n",
      "[1, 2, 3, 4, 5, 6, 7, 8, 9, 10, 11, 12, 13, 14, 15, 16, 17, 18, 19, 20]\n"
     ]
    }
   ],
   "source": [
    "lista = range (1, 21)\n",
    "\n",
    "numeros = [] #lista vazia\n",
    "\n",
    "for x in lista:\n",
    "    numeros.append(x)\n",
    "    \n",
    "print(f'Foram adicionados {x} elementos á lista')\n",
    "print(numeros)"
   ]
  },
  {
   "cell_type": "markdown",
   "id": "84daf6a5",
   "metadata": {},
   "source": [
    "Exercício 09 - Faça um programa que imprima na tela apenas os números ímpares\n",
    "entre 1 e 50."
   ]
  },
  {
   "cell_type": "code",
   "execution_count": 5,
   "id": "86537890",
   "metadata": {},
   "outputs": [
    {
     "name": "stdout",
     "output_type": "stream",
     "text": [
      "1\n",
      "3\n",
      "5\n",
      "7\n",
      "9\n",
      "11\n",
      "13\n",
      "15\n",
      "17\n",
      "19\n",
      "21\n",
      "23\n",
      "25\n",
      "27\n",
      "29\n",
      "31\n",
      "33\n",
      "35\n",
      "37\n",
      "39\n",
      "41\n",
      "43\n",
      "45\n",
      "47\n",
      "49\n"
     ]
    }
   ],
   "source": [
    "numeros = range(1, 51, 2)\n",
    "\n",
    "for x in numeros:\n",
    "    print(x)"
   ]
  },
  {
   "cell_type": "code",
   "execution_count": 6,
   "id": "d5a745b8",
   "metadata": {},
   "outputs": [
    {
     "name": "stdout",
     "output_type": "stream",
     "text": [
      "1\n",
      "3\n",
      "5\n",
      "7\n",
      "9\n",
      "11\n",
      "13\n",
      "15\n",
      "17\n",
      "19\n",
      "21\n",
      "23\n",
      "25\n",
      "27\n",
      "29\n",
      "31\n",
      "33\n",
      "35\n",
      "37\n",
      "39\n",
      "41\n",
      "43\n",
      "45\n",
      "47\n",
      "49\n"
     ]
    }
   ],
   "source": [
    "numeros = range(1,51)\n",
    "\n",
    "for x in numeros:\n",
    "    if x % 2 != 0:\n",
    "        print(x)"
   ]
  },
  {
   "cell_type": "code",
   "execution_count": 7,
   "id": "02a80b8c",
   "metadata": {},
   "outputs": [
    {
     "name": "stdout",
     "output_type": "stream",
     "text": [
      "[1, 2, 3, 4, 5, 6, 7, 8, 9, 10, 11, 12, 13, 14, 15, 16, 17, 18, 19, 20, 21, 22, 23, 24, 25, 26, 27, 28, 29, 30, 31, 32, 33, 34, 35, 36, 37, 38, 39, 40, 41, 42, 43, 44, 45, 46, 47, 48, 49, 50]\n"
     ]
    }
   ],
   "source": [
    "lista = range(1,51)\n",
    "\n",
    "numeros = []\n",
    "\n",
    "for x in lista:\n",
    "    numeros.append(x)\n",
    "\n",
    "print(numeros)"
   ]
  },
  {
   "cell_type": "markdown",
   "id": "a0608b96",
   "metadata": {},
   "source": [
    "Exercício 07 - Faça um programa que leia 5 números e informe o maior número."
   ]
  },
  {
   "cell_type": "code",
   "execution_count": 1,
   "id": "a9423d15",
   "metadata": {},
   "outputs": [
    {
     "name": "stdout",
     "output_type": "stream",
     "text": [
      "Digite um numero: 5\n",
      "Digite um numero: 9\n",
      "Digite um numero: 8\n",
      "Digite um numero: 10\n",
      "Digite um numero: 5\n",
      "O maior valor da lista é 10 e o menor é 5.\n"
     ]
    }
   ],
   "source": [
    "controle = range(0,5)#lista para controle de repetição\n",
    "\n",
    "numeros = []#lista utilizada para executar os numeros inseridos \n",
    "\n",
    "for x in controle:\n",
    "    num = int(input('Digite um numero: '))\n",
    "    numeros.append(num)\n",
    "\n",
    "maior = max(numeros)\n",
    "menor = min(numeros)\n",
    "\n",
    "print(f'O maior valor da lista é {maior} e o menor é {menor}.')"
   ]
  },
  {
   "cell_type": "markdown",
   "id": "60770efc",
   "metadata": {},
   "source": [
    "Exercício 08 - Faça um programa que leia 5 números e informe a soma e a média dos\n",
    "números."
   ]
  },
  {
   "cell_type": "code",
   "execution_count": 10,
   "id": "da7bfa3f",
   "metadata": {},
   "outputs": [
    {
     "name": "stdout",
     "output_type": "stream",
     "text": [
      "15\n",
      "3.0\n"
     ]
    }
   ],
   "source": [
    "numeros = range(1,6)\n",
    "\n",
    "soma = 0 \n",
    "\n",
    "for x in numeros:\n",
    "    soma = soma + x\n",
    "    media = soma / x\n",
    "    \n",
    "print(soma)\n",
    "print(media)"
   ]
  },
  {
   "cell_type": "markdown",
   "id": "3c940dc8",
   "metadata": {},
   "source": [
    "Exercício 10 - Faça um programa que receba dois números inteiros e gere os números\n",
    "inteiros que estão no intervalo compreendido por eles."
   ]
  },
  {
   "cell_type": "code",
   "execution_count": 12,
   "id": "d3bb7097",
   "metadata": {},
   "outputs": [
    {
     "name": "stdout",
     "output_type": "stream",
     "text": [
      "Digite o primeiro numero: 15\n",
      "Digite o segundo numero: 30\n",
      "15\n",
      "16\n",
      "17\n",
      "18\n",
      "19\n",
      "20\n",
      "21\n",
      "22\n",
      "23\n",
      "24\n",
      "25\n",
      "26\n",
      "27\n",
      "28\n",
      "29\n"
     ]
    }
   ],
   "source": [
    "numero1 = int(input('Digite o primeiro numero: '))\n",
    "numero2 = int(input('Digite o segundo numero: '))\n",
    "\n",
    "lista = range(numero1,numero2)\n",
    "\n",
    "for x in lista:\n",
    "    print(x)"
   ]
  },
  {
   "cell_type": "markdown",
   "id": "b611c5fb",
   "metadata": {},
   "source": [
    "Exercício 11 - Altere o programa anterior para mostrar no final a soma dos números."
   ]
  },
  {
   "cell_type": "code",
   "execution_count": 13,
   "id": "3715ca57",
   "metadata": {},
   "outputs": [
    {
     "name": "stdout",
     "output_type": "stream",
     "text": [
      "Digite o primeiro numero: 2\n",
      "Digite o segundo numero: 4\n",
      "5\n"
     ]
    }
   ],
   "source": [
    "numero1 = int(input('Digite o primeiro numero: '))\n",
    "numero2 = int(input('Digite o segundo numero: '))\n",
    "\n",
    "lista = range(numero1,numero2)\n",
    "soma = 0\n",
    "\n",
    "for x in lista:\n",
    "    soma = soma + x\n",
    "print(soma)\n",
    "    "
   ]
  },
  {
   "cell_type": "markdown",
   "id": "b2a60aff",
   "metadata": {},
   "source": [
    "Exercício 12 - Desenvolva um gerador de tabuada, capaz de gerar a tabuada de\n",
    "qualquer número inteiro entre 1 a 10. O usuário deve informar de qual numero ele deseja\n",
    "ver a tabuada. A saída deve ser conforme o exemplo abaixo:"
   ]
  },
  {
   "cell_type": "code",
   "execution_count": 14,
   "id": "11ed5344",
   "metadata": {},
   "outputs": [
    {
     "name": "stdout",
     "output_type": "stream",
     "text": [
      "Digite um numero de 1 a 10: 2\n",
      "Tabuada do 2:\n",
      "2 X 1 = 2\n",
      "2 X 2 = 4\n",
      "2 X 3 = 6\n",
      "2 X 4 = 8\n",
      "2 X 5 = 10\n",
      "2 X 6 = 12\n",
      "2 X 7 = 14\n",
      "2 X 8 = 16\n",
      "2 X 9 = 18\n",
      "2 X 10 = 20\n"
     ]
    }
   ],
   "source": [
    "numero = int(input(\"Digite um numero de 1 a 10: \"))\n",
    "\n",
    "print(f'Tabuada do {numero}:')\n",
    "\n",
    "for x in range(1, 11):\n",
    "\n",
    "    print(f\"{numero} X {x} = {numero * x}\")"
   ]
  },
  {
   "cell_type": "code",
   "execution_count": 23,
   "id": "ed626a6d",
   "metadata": {},
   "outputs": [
    {
     "name": "stdout",
     "output_type": "stream",
     "text": [
      "Digite um numero de 1 a 10: 2\n",
      "Tabuada do 2:\n",
      "2 X 1 = 2\n",
      "2 X 2 = 4\n",
      "2 X 3 = 6\n",
      "2 X 4 = 8\n",
      "2 X 5 = 10\n",
      "2 X 6 = 12\n",
      "2 X 7 = 14\n",
      "2 X 8 = 16\n",
      "2 X 9 = 18\n",
      "2 X 10 = 20\n"
     ]
    }
   ],
   "source": [
    "numero = int(input(\"Digite um numero de 1 a 10: \"))\n",
    "\n",
    "if numero >= 1 and numero <= 10:\n",
    "\n",
    "    print(f'Tabuada do {numero}:')\n",
    "\n",
    "    for x in range(1, 11):\n",
    "\n",
    "        print(f\"{numero} X {x} = {numero * x}\")\n",
    "\n",
    "else:\n",
    "    print('Este numero é inválido. Digite um numero entre 1 e 10. ')"
   ]
  },
  {
   "cell_type": "markdown",
   "id": "67d7d066",
   "metadata": {},
   "source": [
    "Exercício 14 - Faça um programa que peça 10 números inteiros, calcule e mostre a\n",
    "quantidade de números pares e a quantidade de números ímpares."
   ]
  },
  {
   "cell_type": "code",
   "execution_count": null,
   "id": "67f2b614",
   "metadata": {},
   "outputs": [],
   "source": [
    "controle = range(1,11)\n",
    "\n",
    "numeros = []\n",
    "\n",
    "for x in controle:\n",
    "    num = int(input(\"Digite um numero: \"))\n",
    "    numeros.append(num)\n",
    "\n",
    "if x % 2 == 0:\n",
    "    print(x)\n",
    "if x % 2 != 0:\n",
    "    print(x)"
   ]
  }
 ],
 "metadata": {
  "kernelspec": {
   "display_name": "Python 3 (ipykernel)",
   "language": "python",
   "name": "python3"
  },
  "language_info": {
   "codemirror_mode": {
    "name": "ipython",
    "version": 3
   },
   "file_extension": ".py",
   "mimetype": "text/x-python",
   "name": "python",
   "nbconvert_exporter": "python",
   "pygments_lexer": "ipython3",
   "version": "3.10.9"
  }
 },
 "nbformat": 4,
 "nbformat_minor": 5
}
