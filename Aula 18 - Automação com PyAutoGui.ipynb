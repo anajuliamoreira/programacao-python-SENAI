{
 "cells": [
  {
   "cell_type": "code",
   "execution_count": 2,
   "metadata": {},
   "outputs": [
    {
     "name": "stdout",
     "output_type": "stream",
     "text": [
      "Requirement already satisfied: pyautogui in c:\\python311\\lib\\site-packages (0.9.54)\n",
      "Requirement already satisfied: pymsgbox in c:\\python311\\lib\\site-packages (from pyautogui) (1.0.9)\n",
      "Requirement already satisfied: pytweening>=1.0.4 in c:\\python311\\lib\\site-packages (from pyautogui) (1.0.7)\n",
      "Requirement already satisfied: pyscreeze>=0.1.21 in c:\\python311\\lib\\site-packages (from pyautogui) (0.1.29)\n",
      "Requirement already satisfied: pygetwindow>=0.0.5 in c:\\python311\\lib\\site-packages (from pyautogui) (0.0.9)\n",
      "Requirement already satisfied: mouseinfo in c:\\python311\\lib\\site-packages (from pyautogui) (0.1.3)\n",
      "Requirement already satisfied: pyrect in c:\\python311\\lib\\site-packages (from pygetwindow>=0.0.5->pyautogui) (0.2.0)\n",
      "Requirement already satisfied: pyscreenshot in c:\\python311\\lib\\site-packages (from pyscreeze>=0.1.21->pyautogui) (3.1)\n",
      "Requirement already satisfied: Pillow>=9.3.0 in c:\\python311\\lib\\site-packages (from pyscreeze>=0.1.21->pyautogui) (10.0.0)\n",
      "Requirement already satisfied: pyperclip in c:\\python311\\lib\\site-packages (from mouseinfo->pyautogui) (1.8.2)\n",
      "Requirement already satisfied: EasyProcess in c:\\python311\\lib\\site-packages (from pyscreenshot->pyscreeze>=0.1.21->pyautogui) (1.1)\n",
      "Requirement already satisfied: entrypoint2 in c:\\python311\\lib\\site-packages (from pyscreenshot->pyscreeze>=0.1.21->pyautogui) (1.1)\n",
      "Requirement already satisfied: mss in c:\\python311\\lib\\site-packages (from pyscreenshot->pyscreeze>=0.1.21->pyautogui) (9.0.1)\n"
     ]
    },
    {
     "name": "stderr",
     "output_type": "stream",
     "text": [
      "\n",
      "[notice] A new release of pip available: 22.3 -> 23.2.1\n",
      "[notice] To update, run: python.exe -m pip install --upgrade pip\n"
     ]
    }
   ],
   "source": [
    "!pip install pyautogui"
   ]
  },
  {
   "cell_type": "markdown",
   "metadata": {},
   "source": [
    "### Exercicio 01\n",
    "Movimentar o mouse para uma posição na tela"
   ]
  },
  {
   "cell_type": "code",
   "execution_count": 3,
   "metadata": {},
   "outputs": [],
   "source": [
    "import pyautogui\n",
    "\n",
    "#Movimentar o mouse nas coordenadas (x, y)\n",
    "\n",
    "pyautogui.moveTo(500,500,10)"
   ]
  },
  {
   "cell_type": "markdown",
   "metadata": {},
   "source": [
    "### Exercicio 02\n",
    "Clicar em uma posição específica na tela."
   ]
  },
  {
   "cell_type": "code",
   "execution_count": null,
   "metadata": {},
   "outputs": [],
   "source": [
    "#Descobrir a posição de um elemento \n",
    "\n",
    "pyautogui.position()\n",
    "\n",
    "#Movimentar para uma posição especifica\n",
    "\n",
    "pyautogui.moveTo(1716,422,5)\n",
    "\n",
    "#Clicar na posição especifica \n",
    "\n",
    "pyautogui.click(1716,422)\n"
   ]
  },
  {
   "cell_type": "markdown",
   "metadata": {},
   "source": [
    "### Exercicio 03\n",
    "Digitar um texto em um campo de entrada."
   ]
  },
  {
   "cell_type": "code",
   "execution_count": null,
   "metadata": {},
   "outputs": [],
   "source": [
    "# Importar a biblioteca time \n",
    "import time\n",
    "import pyautogui\n",
    "\n",
    "#Aguardar alguns instantes antes de iniciar a digitação\n",
    "time.sleep(5)\n",
    "\n",
    "#Digitar o texto\n",
    "pyautogui.write('Estou com sono!')"
   ]
  },
  {
   "cell_type": "markdown",
   "metadata": {},
   "source": [
    "### Exercicio 04\n",
    "Capturar a posição atual do mouse."
   ]
  },
  {
   "cell_type": "code",
   "execution_count": null,
   "metadata": {},
   "outputs": [
    {
     "name": "stdout",
     "output_type": "stream",
     "text": [
      "Posição atual do mouse: x = 25, y = 1055\n"
     ]
    }
   ],
   "source": [
    "#Obtenha as coordenadas atuais do mouse \n",
    "\n",
    "x, y = pyautogui.position()\n",
    "\n",
    "print(f'Posição atual do mouse: x = {x}, y = {y}')"
   ]
  },
  {
   "cell_type": "code",
   "execution_count": null,
   "metadata": {},
   "outputs": [],
   "source": [
    "#Clicar no botão iniciar, digitar e entrar no bloco de notas\n",
    "\n",
    "pyautogui.click(25, 1055)\n",
    "\n",
    "time.sleep(2)\n",
    "\n",
    "pyautogui.write('Bloco de notas')\n",
    "\n",
    "pyautogui.press('enter')\n",
    "\n",
    "time.sleep(2)\n",
    "\n",
    "pyautogui.write('Quero muito dormir')\n"
   ]
  },
  {
   "cell_type": "markdown",
   "metadata": {},
   "source": [
    "### Exercicio 05\n",
    "\n",
    "Realizar um clique duplo."
   ]
  },
  {
   "cell_type": "code",
   "execution_count": null,
   "metadata": {},
   "outputs": [],
   "source": [
    "#x=1014, y=15\n",
    "\n",
    "pyautogui.doubleClick(1014,15)"
   ]
  },
  {
   "cell_type": "markdown",
   "metadata": {},
   "source": [
    "### Desafio\n",
    "\n",
    "Abrir o GoogleChrome e abrir o senai suiço brasileira"
   ]
  },
  {
   "cell_type": "code",
   "execution_count": 48,
   "metadata": {},
   "outputs": [],
   "source": [
    "#x=115, y=748\n",
    "\n",
    "time.sleep(3)\n",
    "\n",
    "pyautogui.click(25, 1055)\n",
    "\n",
    "time.sleep(3)\n",
    "\n",
    "pyautogui.write('Google Chrome')\n",
    "pyautogui.press('enter')\n",
    "\n",
    "time.sleep(3)\n",
    "\n",
    "pyautogui.write('https://sp.senai.br/unidade/suicobrasileira/')\n",
    "\n",
    "time.sleep(3)\n",
    "\n",
    "pyautogui.press('enter')\n",
    "\n",
    "time.sleep(3)\n",
    "# clicar no conheça nossos cursos x=1614, y=561\n",
    "\n",
    "pyautogui.click(1614, 561)"
   ]
  },
  {
   "cell_type": "markdown",
   "metadata": {},
   "source": [
    "### Desafio \n",
    "\n",
    "1.Abrir o Google Chrome\n",
    "\n",
    "2.Entrar no site da escola\n",
    "\n",
    "3.Clicar em conheça nossos cursos\n",
    "\n",
    "4.Burcar o curso FMEA\n",
    "\n",
    "5.Clicar em ver unidades"
   ]
  },
  {
   "cell_type": "code",
   "execution_count": 55,
   "metadata": {},
   "outputs": [],
   "source": [
    "#Posição conheça nossos cursos x=1279, y=510\n",
    "#Localizar (pesquisa) x=455, y=321\n",
    "#Ver unidades x=788, y=608\n",
    "\n",
    "time.sleep(3)\n",
    "\n",
    "pyautogui.click(25, 1055)\n",
    "\n",
    "time.sleep(3)\n",
    "\n",
    "pyautogui.write('Google Chrome')\n",
    "pyautogui.press('enter')\n",
    "\n",
    "time.sleep(3)\n",
    "\n",
    "pyautogui.write('https://sp.senai.br/unidade/suicobrasileira/')\n",
    "\n",
    "time.sleep(3)\n",
    "\n",
    "pyautogui.press('enter')\n",
    "\n",
    "time.sleep(3)\n",
    "\n",
    "pyautogui.click(1279,510)\n",
    "\n",
    "time.sleep(3)\n",
    "\n",
    "pyautogui.click(455,321)\n",
    "\n",
    "time.sleep(3)\n",
    "\n",
    "pyautogui.write('FMEA')\n",
    "pyautogui.press('enter')\n",
    "\n",
    "time.sleep(3)\n",
    "\n",
    "pyautogui.click(788,608)\n"
   ]
  },
  {
   "cell_type": "markdown",
   "metadata": {},
   "source": [
    "### Exercicio 13\n"
   ]
  },
  {
   "cell_type": "code",
   "execution_count": 92,
   "metadata": {},
   "outputs": [
    {
     "data": {
      "text/plain": [
       "Point(x=706, y=530)"
      ]
     },
     "execution_count": 92,
     "metadata": {},
     "output_type": "execute_result"
    }
   ],
   "source": [
    "#Posições\n",
    "pyautogui.position()\n",
    "\n",
    "#Nome x=706, y=530\n",
    "#Sobrenome x=684, y=340\n",
    "#Email x=697, y=490\n",
    "#Endereço x=684, y=640\n",
    "#Numero de telefone x=671, y=787"
   ]
  },
  {
   "cell_type": "code",
   "execution_count": 7,
   "metadata": {},
   "outputs": [],
   "source": [
    "import time\n",
    "pyautogui.click(25, 1055)\n",
    "\n",
    "time.sleep(1)\n",
    "\n",
    "pyautogui.write('Google Chrome')\n",
    "pyautogui.press('enter')  \n",
    "time.sleep(1)\n",
    "\n",
    "pyautogui.write('https://forms.gle/6T6Umx21BMqqsfHD8')\n",
    "pyautogui.press('enter')\n",
    "\n",
    "time.sleep(2)\n",
    "\n",
    "pyautogui.scroll(-1)\n",
    "\n",
    "#time.sleep(3)\n",
    "\n",
    "pyautogui.click(706,530)\n",
    "time.sleep(2)\n",
    "pyautogui.write('Ana Julia')\n",
    "\n",
    "time.sleep(0.5)\n",
    "\n",
    "#pyautogui.click(684,340)\n",
    "pyautogui.press('tab')\n",
    "time.sleep(0.5)\n",
    "pyautogui.write('Moreira')\n",
    "\n",
    "time.sleep(0.5)\n",
    "\n",
    "#pyautogui.click(697,490)\n",
    "pyautogui.press('tab')\n",
    "time.sleep(0.5)\n",
    "pyautogui.write('anajulia.msantos@gmail.com')\n",
    "\n",
    "time.sleep(0.5)\n",
    "\n",
    "#pyautogui.click(684,640)\n",
    "pyautogui.press('tab')\n",
    "time.sleep(0.5)\n",
    "pyautogui.write('Rua dos Mercanteis - Vila Fazeonni')\n",
    "\n",
    "time.sleep(0.5)\n",
    "\n",
    "#pyautogui.click(671,787)\n",
    "pyautogui.press('tab')\n",
    "time.sleep(0.5)\n",
    "pyautogui.write('11956804063')\n"
   ]
  }
 ],
 "metadata": {
  "kernelspec": {
   "display_name": "Python 3",
   "language": "python",
   "name": "python3"
  },
  "language_info": {
   "codemirror_mode": {
    "name": "ipython",
    "version": 3
   },
   "file_extension": ".py",
   "mimetype": "text/x-python",
   "name": "python",
   "nbconvert_exporter": "python",
   "pygments_lexer": "ipython3",
   "version": "3.11.0"
  },
  "orig_nbformat": 4
 },
 "nbformat": 4,
 "nbformat_minor": 2
}
